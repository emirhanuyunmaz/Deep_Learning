{
 "cells": [
  {
   "cell_type": "code",
   "execution_count": 1,
   "id": "720baff8-7389-45ba-b3e9-16f4cf87392a",
   "metadata": {},
   "outputs": [],
   "source": [
    "from keras.datasets import mnist\n",
    "from keras.utils import to_categorical \n",
    "from keras.callbacks import EarlyStopping , ModelCheckpoint\n",
    "from keras.models import Sequential\n",
    "from keras.layers import Dense\n",
    "\n",
    "from keras.models import load_model\n",
    "\n",
    "import matplotlib.pyplot as plt"
   ]
  },
  {
   "cell_type": "markdown",
   "id": "aa2cb54a-8fed-4b87-956c-59f950cec479",
   "metadata": {},
   "source": [
    "### 1)Mnist veri setinin eğitim ve test verisi olarak yüklenmesi işlemi"
   ]
  },
  {
   "cell_type": "code",
   "execution_count": 2,
   "id": "7259a2a1-fc39-413d-bfd4-e0d958737ff0",
   "metadata": {},
   "outputs": [],
   "source": [
    "(x_train,y_train),(x_test,y_test) = mnist.load_data()"
   ]
  },
  {
   "cell_type": "markdown",
   "id": "f2a95aa5-dfc0-44c8-9b0c-dd23409c5fb0",
   "metadata": {},
   "source": [
    "### 2)Örnek verilerin gösterilmesi"
   ]
  },
  {
   "cell_type": "code",
   "execution_count": 3,
   "id": "7ce4982d-73a6-415e-89c7-5cf92343d1b2",
   "metadata": {},
   "outputs": [
    {
     "data": {
      "image/png": "[encoded data removed]",
      "text/plain": [
       "<Figure size 1000x500 with 6 Axes>"
      ]
     },
     "metadata": {},
     "output_type": "display_data"
    }
   ],
   "source": [
    "plt.figure(figsize=(10,5))\n",
    "for i in range(6):\n",
    "    plt.subplot(2,3,i+1)\n",
    "    plt.imshow(x_train[i],cmap=\"gray\")\n",
    "    plt.title(f\"Label:{y_train[i]}\")\n",
    "    plt.axis(\"off\")\n",
    "plt.show()"
   ]
  },
  {
   "cell_type": "markdown",
   "id": "81bf1c71-e7d1-448d-af3b-627aa150a7c8",
   "metadata": {},
   "source": [
    "### 3)Veri setinin Normalize edilmesi\n",
    "Verileri 0-1 arasına ölçeklendirilmesi işlemi"
   ]
  },
  {
   "cell_type": "code",
   "execution_count": 4,
   "id": "e2352b96-52b4-4a54-8473-e609ea35fe08",
   "metadata": {},
   "outputs": [],
   "source": [
    "x_train = x_train.reshape((x_train.shape[0],x_train.shape[1] *  x_train.shape[2])).astype(\"float32\")/255"
   ]
  },
  {
   "cell_type": "code",
   "execution_count": 5,
   "id": "f3744389-30fa-4d94-9fd8-5618f1f5804a",
   "metadata": {},
   "outputs": [
    {
     "data": {
      "text/plain": [
       "(60000, 784)"
      ]
     },
     "execution_count": 5,
     "metadata": {},
     "output_type": "execute_result"
    }
   ],
   "source": [
    "x_train.shape"
   ]
  },
  {
   "cell_type": "code",
   "execution_count": 6,
   "id": "eed1e7cf-34b1-46dd-9a94-f390a4f84672",
   "metadata": {},
   "outputs": [],
   "source": [
    "x_test = x_test.reshape((x_test.shape[0],x_test.shape[1] * x_test.shape[2])).astype(\"float32\")/255"
   ]
  },
  {
   "cell_type": "code",
   "execution_count": 7,
   "id": "231a2d1e-6da9-4763-9e71-fdac7fe4ae03",
   "metadata": {},
   "outputs": [
    {
     "data": {
      "text/plain": [
       "(10000, 784)"
      ]
     },
     "execution_count": 7,
     "metadata": {},
     "output_type": "execute_result"
    }
   ],
   "source": [
    "x_test.shape"
   ]
  },
  {
   "cell_type": "markdown",
   "id": "5c81e14b-6297-4c3d-9592-c6c39532246a",
   "metadata": {},
   "source": [
    "### 4)Etiketleri kategorik hale çevir\n",
    "0-9 arasındaki rakamları one - hot encoding yapıyoruz."
   ]
  },
  {
   "cell_type": "code",
   "execution_count": 8,
   "id": "012f5940-cef1-486c-9762-baca6fb1c7bf",
   "metadata": {},
   "outputs": [],
   "source": [
    "y_train = to_categorical(y_train,10)"
   ]
  },
  {
   "cell_type": "code",
   "execution_count": 9,
   "id": "f9b73ce6-4739-4fff-9128-7b5442720b99",
   "metadata": {},
   "outputs": [
    {
     "data": {
      "text/plain": [
       "(60000, 10)"
      ]
     },
     "execution_count": 9,
     "metadata": {},
     "output_type": "execute_result"
    }
   ],
   "source": [
    "y_train.shape"
   ]
  },
  {
   "cell_type": "markdown",
   "id": "14584039-4522-46c6-a808-0acbe04fd146",
   "metadata": {},
   "source": [
    "10 değeri sınıf sayısını verir."
   ]
  },
  {
   "cell_type": "code",
   "execution_count": 10,
   "id": "ec526cce-f378-4046-8efe-dd42042c88e6",
   "metadata": {},
   "outputs": [
    {
     "data": {
      "text/plain": [
       "(10000,)"
      ]
     },
     "execution_count": 10,
     "metadata": {},
     "output_type": "execute_result"
    }
   ],
   "source": [
    "y_test.shape"
   ]
  },
  {
   "cell_type": "code",
   "execution_count": 11,
   "id": "80915c08-1244-4c61-b08e-b89f93a3147e",
   "metadata": {},
   "outputs": [],
   "source": [
    "y_test = to_categorical(y_test , 10)"
   ]
  },
  {
   "cell_type": "code",
   "execution_count": 12,
   "id": "42d1f4c3-f348-48a8-b0b1-6151ba201454",
   "metadata": {},
   "outputs": [
    {
     "data": {
      "text/plain": [
       "(10000, 10)"
      ]
     },
     "execution_count": 12,
     "metadata": {},
     "output_type": "execute_result"
    }
   ],
   "source": [
    "y_test.shape"
   ]
  },
  {
   "cell_type": "markdown",
   "id": "6a53b07a-b181-4017-a96b-a5cfc16a43dc",
   "metadata": {},
   "source": [
    "### 5)ANN Modelinin oluşturulması"
   ]
  },
  {
   "cell_type": "code",
   "execution_count": 13,
   "id": "ebfadba4-766b-44a3-bf5b-7eacad8c3256",
   "metadata": {},
   "outputs": [],
   "source": [
    "model = Sequential()"
   ]
  },
  {
   "cell_type": "markdown",
   "id": "4df85b2d-f1ab-423a-9f75-2a45867716ef",
   "metadata": {},
   "source": [
    "İlk katman : 512 cell , Relu Actictivation func. , input_size = (28*28)"
   ]
  },
  {
   "cell_type": "code",
   "execution_count": 14,
   "id": "f7ec5cce-0a0e-45a0-9424-244ef752eaa9",
   "metadata": {},
   "outputs": [
    {
     "name": "stderr",
     "output_type": "stream",
     "text": [
      "C:\\Users\\emirh\\anaconda3\\Lib\\site-packages\\keras\\src\\layers\\core\\dense.py:93: UserWarning: Do not pass an `input_shape`/`input_dim` argument to a layer. When using Sequential models, prefer using an `Input(shape)` object as the first layer in the model instead.\n",
      "  super().__init__(activity_regularizer=activity_regularizer, **kwargs)\n"
     ]
    }
   ],
   "source": [
    "model.add(Dense(512,activation=\"relu\",input_shape=(28*28,) ) )"
   ]
  },
  {
   "cell_type": "markdown",
   "id": "2cc8ed3a-df1f-4415-835a-bb14c3c3be68",
   "metadata": {},
   "source": [
    "İkinci katman : 256 cell ,tanh activation func. "
   ]
  },
  {
   "cell_type": "code",
   "execution_count": 15,
   "id": "10d6b6e3-a0e7-4f0b-ac5d-cd89a55830c1",
   "metadata": {},
   "outputs": [],
   "source": [
    "model.add(Dense(256,activation=\"tanh\"))"
   ]
  },
  {
   "cell_type": "markdown",
   "id": "6757f96e-2c5b-4adf-8822-cdde4c2c8ec5",
   "metadata": {},
   "source": [
    "Output Layer : 10 tane sınıf olduğu için 10 tane olmak zorunda . Softmax activation func."
   ]
  },
  {
   "cell_type": "code",
   "execution_count": 16,
   "id": "f0b303f1-31cc-47e0-aec7-a91d6ecd3ebf",
   "metadata": {},
   "outputs": [],
   "source": [
    "model.add(Dense(10,activation=\"softmax\"))"
   ]
  },
  {
   "cell_type": "markdown",
   "id": "0c7576bc-9e7e-4a15-969c-e308f57c2fe5",
   "metadata": {},
   "source": [
    "Model Özeti"
   ]
  },
  {
   "cell_type": "code",
   "execution_count": 17,
   "id": "89191351-3710-4f81-b00b-01bfade16e55",
   "metadata": {},
   "outputs": [
    {
     "data": {
      "text/html": [
       "<pre style=\"white-space:pre;overflow-x:auto;line-height:normal;font-family:Menlo,'DejaVu Sans Mono',consolas,'Courier New',monospace\"><span style=\"font-weight: bold\">Model: \"sequential\"</span>\n",
       "</pre>\n"
      ],
      "text/plain": [
       "\u001b[1mModel: \"sequential\"\u001b[0m\n"
      ]
     },
     "metadata": {},
     "output_type": "display_data"
    },
    {
     "data": {
      "text/html": [
       "<pre style=\"white-space:pre;overflow-x:auto;line-height:normal;font-family:Menlo,'DejaVu Sans Mono',consolas,'Courier New',monospace\">┏━━━━━━━━━━━━━━━━━━━━━━━━━━━━━━━━━━━━━━┳━━━━━━━━━━━━━━━━━━━━━━━━━━━━━┳━━━━━━━━━━━━━━━━━┓\n",
       "┃<span style=\"font-weight: bold\"> Layer (type)                         </span>┃<span style=\"font-weight: bold\"> Output Shape                </span>┃<span style=\"font-weight: bold\">         Param # </span>┃\n",
       "┡━━━━━━━━━━━━━━━━━━━━━━━━━━━━━━━━━━━━━━╇━━━━━━━━━━━━━━━━━━━━━━━━━━━━━╇━━━━━━━━━━━━━━━━━┩\n",
       "│ dense (<span style=\"color: #0087ff; text-decoration-color: #0087ff\">Dense</span>)                        │ (<span style=\"color: #00d7ff; text-decoration-color: #00d7ff\">None</span>, <span style=\"color: #00af00; text-decoration-color: #00af00\">512</span>)                 │         <span style=\"color: #00af00; text-decoration-color: #00af00\">401,920</span> │\n",
       "├──────────────────────────────────────┼─────────────────────────────┼─────────────────┤\n",
       "│ dense_1 (<span style=\"color: #0087ff; text-decoration-color: #0087ff\">Dense</span>)                      │ (<span style=\"color: #00d7ff; text-decoration-color: #00d7ff\">None</span>, <span style=\"color: #00af00; text-decoration-color: #00af00\">256</span>)                 │         <span style=\"color: #00af00; text-decoration-color: #00af00\">131,328</span> │\n",
       "├──────────────────────────────────────┼─────────────────────────────┼─────────────────┤\n",
       "│ dense_2 (<span style=\"color: #0087ff; text-decoration-color: #0087ff\">Dense</span>)                      │ (<span style=\"color: #00d7ff; text-decoration-color: #00d7ff\">None</span>, <span style=\"color: #00af00; text-decoration-color: #00af00\">10</span>)                  │           <span style=\"color: #00af00; text-decoration-color: #00af00\">2,570</span> │\n",
       "└──────────────────────────────────────┴─────────────────────────────┴─────────────────┘\n",
       "</pre>\n"
      ],
      "text/plain": [
       "┏━━━━━━━━━━━━━━━━━━━━━━━━━━━━━━━━━━━━━━┳━━━━━━━━━━━━━━━━━━━━━━━━━━━━━┳━━━━━━━━━━━━━━━━━┓\n",
       "┃\u001b[1m \u001b[0m\u001b[1mLayer (type)                        \u001b[0m\u001b[1m \u001b[0m┃\u001b[1m \u001b[0m\u001b[1mOutput Shape               \u001b[0m\u001b[1m \u001b[0m┃\u001b[1m \u001b[0m\u001b[1m        Param #\u001b[0m\u001b[1m \u001b[0m┃\n",
       "┡━━━━━━━━━━━━━━━━━━━━━━━━━━━━━━━━━━━━━━╇━━━━━━━━━━━━━━━━━━━━━━━━━━━━━╇━━━━━━━━━━━━━━━━━┩\n",
       "│ dense (\u001b[38;5;33mDense\u001b[0m)                        │ (\u001b[38;5;45mNone\u001b[0m, \u001b[38;5;34m512\u001b[0m)                 │         \u001b[38;5;34m401,920\u001b[0m │\n",
       "├──────────────────────────────────────┼─────────────────────────────┼─────────────────┤\n",
       "│ dense_1 (\u001b[38;5;33mDense\u001b[0m)                      │ (\u001b[38;5;45mNone\u001b[0m, \u001b[38;5;34m256\u001b[0m)                 │         \u001b[38;5;34m131,328\u001b[0m │\n",
       "├──────────────────────────────────────┼─────────────────────────────┼─────────────────┤\n",
       "│ dense_2 (\u001b[38;5;33mDense\u001b[0m)                      │ (\u001b[38;5;45mNone\u001b[0m, \u001b[38;5;34m10\u001b[0m)                  │           \u001b[38;5;34m2,570\u001b[0m │\n",
       "└──────────────────────────────────────┴─────────────────────────────┴─────────────────┘\n"
      ]
     },
     "metadata": {},
     "output_type": "display_data"
    },
    {
     "data": {
      "text/html": [
       "<pre style=\"white-space:pre;overflow-x:auto;line-height:normal;font-family:Menlo,'DejaVu Sans Mono',consolas,'Courier New',monospace\"><span style=\"font-weight: bold\"> Total params: </span><span style=\"color: #00af00; text-decoration-color: #00af00\">535,818</span> (2.04 MB)\n",
       "</pre>\n"
      ],
      "text/plain": [
       "\u001b[1m Total params: \u001b[0m\u001b[38;5;34m535,818\u001b[0m (2.04 MB)\n"
      ]
     },
     "metadata": {},
     "output_type": "display_data"
    },
    {
     "data": {
      "text/html": [
       "<pre style=\"white-space:pre;overflow-x:auto;line-height:normal;font-family:Menlo,'DejaVu Sans Mono',consolas,'Courier New',monospace\"><span style=\"font-weight: bold\"> Trainable params: </span><span style=\"color: #00af00; text-decoration-color: #00af00\">535,818</span> (2.04 MB)\n",
       "</pre>\n"
      ],
      "text/plain": [
       "\u001b[1m Trainable params: \u001b[0m\u001b[38;5;34m535,818\u001b[0m (2.04 MB)\n"
      ]
     },
     "metadata": {},
     "output_type": "display_data"
    },
    {
     "data": {
      "text/html": [
       "<pre style=\"white-space:pre;overflow-x:auto;line-height:normal;font-family:Menlo,'DejaVu Sans Mono',consolas,'Courier New',monospace\"><span style=\"font-weight: bold\"> Non-trainable params: </span><span style=\"color: #00af00; text-decoration-color: #00af00\">0</span> (0.00 B)\n",
       "</pre>\n"
      ],
      "text/plain": [
       "\u001b[1m Non-trainable params: \u001b[0m\u001b[38;5;34m0\u001b[0m (0.00 B)\n"
      ]
     },
     "metadata": {},
     "output_type": "display_data"
    }
   ],
   "source": [
    "model.summary()"
   ]
  },
  {
   "cell_type": "markdown",
   "id": "8f1ae114-4ce9-4dbb-971c-f58ec527b773",
   "metadata": {},
   "source": [
    "### 6)Model Derlenmesi \"Adam\"\n",
    "Adam : Büyük veri ve kompleks ağlar için idealdir. \\\n",
    "Categorical_Crossentropy : Loss fonksiyonu için \\\n",
    "Accurcy : Değerlendirme ve model başarısı için metrik"
   ]
  },
  {
   "cell_type": "code",
   "execution_count": 18,
   "id": "8dbcf81e-f23a-49c5-bd8e-3b525f8b6caa",
   "metadata": {},
   "outputs": [],
   "source": [
    "model.compile(optimizer=\"adam\",loss=\"categorical_crossentropy\",metrics=[\"accuracy\"])"
   ]
  },
  {
   "cell_type": "markdown",
   "id": "ddb75e9b-4b5a-41e5-84d2-97bbfac98bb5",
   "metadata": {},
   "source": [
    "### 7)Callback 'lerin Tanımlanması ve ANN Eğitilmesi"
   ]
  },
  {
   "cell_type": "markdown",
   "id": "e3331980-8503-427d-87f6-15d318c972a6",
   "metadata": {},
   "source": [
    "Erken Durdurma (Early Stopping) : Eğer vall_loss iyileşme olmuyorsa eğitimi durdurma işlemi ."
   ]
  },
  {
   "cell_type": "code",
   "execution_count": 19,
   "id": "91f96d93-1e19-4e3f-95ee-d2e21bbd0723",
   "metadata": {},
   "outputs": [],
   "source": [
    "#monitor : doğrulama setindeki (val) kaybi (loss) izler.\n",
    "#patience : 3 -> Epoch boyunca vall loss değişmiyorsa erken durdurma işlemi yapar.\n",
    "#restore_best_weights : En iyi ağirlıkların geri yüklenmesi işlemi .\n",
    "early_stopping = EarlyStopping(monitor=\"val_loss\",patience=3,restore_best_weights=True)"
   ]
  },
  {
   "cell_type": "markdown",
   "id": "b44a6aec-7aff-4ddf-a010-861d93192a0d",
   "metadata": {},
   "source": [
    "Model Checkpoint : Modelin en iyi ağirlıklarını kaydeder"
   ]
  },
  {
   "cell_type": "code",
   "execution_count": 20,
   "id": "d60674d1-f926-4986-b095-18ad5289da94",
   "metadata": {},
   "outputs": [],
   "source": [
    "#save_best_only : Sadece en iyi performans gösteren modeli kaydeder . \n",
    "checkpoint = ModelCheckpoint(\"ann_best_model.h5\",monitor=\"val_loss\",save_best_only=True)"
   ]
  },
  {
   "cell_type": "markdown",
   "id": "72801a56-5b5d-41c9-9ad6-b179c125b9d5",
   "metadata": {},
   "source": [
    "### 8)Modelin Eğitimi\n",
    "10 Epoch , batch_size = 64 , doğrulama seti oranı = %20 "
   ]
  },
  {
   "cell_type": "code",
   "execution_count": 21,
   "id": "e3c7679b-380a-448c-8a69-f1753dd5a601",
   "metadata": {},
   "outputs": [
    {
     "name": "stdout",
     "output_type": "stream",
     "text": [
      "Epoch 1/10\n",
      "\u001b[1m787/800\u001b[0m \u001b[32m━━━━━━━━━━━━━━━━━━━\u001b[0m\u001b[37m━\u001b[0m \u001b[1m0s\u001b[0m 3ms/step - accuracy: 0.8835 - loss: 0.3777"
     ]
    },
    {
     "name": "stderr",
     "output_type": "stream",
     "text": [
      "WARNING:absl:You are saving your model as an HDF5 file via `model.save()` or `keras.saving.save_model(model)`. This file format is considered legacy. We recommend using instead the native Keras format, e.g. `model.save('my_model.keras')` or `keras.saving.save_model(model, 'my_model.keras')`. \n"
     ]
    },
    {
     "name": "stdout",
     "output_type": "stream",
     "text": [
      "\u001b[1m800/800\u001b[0m \u001b[32m━━━━━━━━━━━━━━━━━━━━\u001b[0m\u001b[37m\u001b[0m \u001b[1m4s\u001b[0m 4ms/step - accuracy: 0.8844 - loss: 0.3747 - val_accuracy: 0.9665 - val_loss: 0.1088\n",
      "Epoch 2/10\n",
      "\u001b[1m792/800\u001b[0m \u001b[32m━━━━━━━━━━━━━━━━━━━\u001b[0m\u001b[37m━\u001b[0m \u001b[1m0s\u001b[0m 3ms/step - accuracy: 0.9726 - loss: 0.0844"
     ]
    },
    {
     "name": "stderr",
     "output_type": "stream",
     "text": [
      "WARNING:absl:You are saving your model as an HDF5 file via `model.save()` or `keras.saving.save_model(model)`. This file format is considered legacy. We recommend using instead the native Keras format, e.g. `model.save('my_model.keras')` or `keras.saving.save_model(model, 'my_model.keras')`. \n"
     ]
    },
    {
     "name": "stdout",
     "output_type": "stream",
     "text": [
      "\u001b[1m800/800\u001b[0m \u001b[32m━━━━━━━━━━━━━━━━━━━━\u001b[0m\u001b[37m\u001b[0m \u001b[1m3s\u001b[0m 3ms/step - accuracy: 0.9726 - loss: 0.0844 - val_accuracy: 0.9697 - val_loss: 0.1067\n",
      "Epoch 3/10\n",
      "\u001b[1m798/800\u001b[0m \u001b[32m━━━━━━━━━━━━━━━━━━━\u001b[0m\u001b[37m━\u001b[0m \u001b[1m0s\u001b[0m 3ms/step - accuracy: 0.9842 - loss: 0.0502"
     ]
    },
    {
     "name": "stderr",
     "output_type": "stream",
     "text": [
      "WARNING:absl:You are saving your model as an HDF5 file via `model.save()` or `keras.saving.save_model(model)`. This file format is considered legacy. We recommend using instead the native Keras format, e.g. `model.save('my_model.keras')` or `keras.saving.save_model(model, 'my_model.keras')`. \n"
     ]
    },
    {
     "name": "stdout",
     "output_type": "stream",
     "text": [
      "\u001b[1m800/800\u001b[0m \u001b[32m━━━━━━━━━━━━━━━━━━━━\u001b[0m\u001b[37m\u001b[0m \u001b[1m3s\u001b[0m 3ms/step - accuracy: 0.9842 - loss: 0.0502 - val_accuracy: 0.9750 - val_loss: 0.0848\n",
      "Epoch 4/10\n",
      "\u001b[1m800/800\u001b[0m \u001b[32m━━━━━━━━━━━━━━━━━━━━\u001b[0m\u001b[37m\u001b[0m \u001b[1m3s\u001b[0m 3ms/step - accuracy: 0.9889 - loss: 0.0340 - val_accuracy: 0.9700 - val_loss: 0.1110\n",
      "Epoch 5/10\n",
      "\u001b[1m800/800\u001b[0m \u001b[32m━━━━━━━━━━━━━━━━━━━━\u001b[0m\u001b[37m\u001b[0m \u001b[1m3s\u001b[0m 3ms/step - accuracy: 0.9900 - loss: 0.0294 - val_accuracy: 0.9748 - val_loss: 0.0892\n",
      "Epoch 6/10\n",
      "\u001b[1m800/800\u001b[0m \u001b[32m━━━━━━━━━━━━━━━━━━━━\u001b[0m\u001b[37m\u001b[0m \u001b[1m3s\u001b[0m 3ms/step - accuracy: 0.9931 - loss: 0.0197 - val_accuracy: 0.9750 - val_loss: 0.0976\n"
     ]
    }
   ],
   "source": [
    "#epoch : Veri seti üzerinden kaç kere geçilecekini belirler\n",
    "#batch_size : Veri setinin kaçarlı olarak eğitime bailanacağı\n",
    "#validation_spit : Eğitim verisinin ne kadaarının doğrulama verisi olarak kullanılacağını belirler . \n",
    "history = model.fit(x_train,y_train,epochs=10,batch_size=60,validation_split=0.2,callbacks=[checkpoint,early_stopping])"
   ]
  },
  {
   "cell_type": "markdown",
   "id": "d958dc3f-28ad-408c-8476-f988904459d9",
   "metadata": {},
   "source": [
    "### 9)Model Performansı Değerlendirme\n",
    "evaluate : Modelin test verisi üzerindeki loss (test_loss) ve accuracy (test_acc) hesaplar"
   ]
  },
  {
   "cell_type": "code",
   "execution_count": 22,
   "id": "0f700d0e-5de4-40a6-8b22-6b022b31bb9f",
   "metadata": {},
   "outputs": [
    {
     "name": "stdout",
     "output_type": "stream",
     "text": [
      "\u001b[1m313/313\u001b[0m \u001b[32m━━━━━━━━━━━━━━━━━━━━\u001b[0m\u001b[37m\u001b[0m \u001b[1m1s\u001b[0m 1ms/step - accuracy: 0.9721 - loss: 0.0886\n"
     ]
    }
   ],
   "source": [
    "test_loss,test_acc = model.evaluate(x_test,y_test)"
   ]
  },
  {
   "cell_type": "code",
   "execution_count": 23,
   "id": "39e4227a-e592-40dd-91bb-12916093c2a4",
   "metadata": {},
   "outputs": [
    {
     "data": {
      "text/plain": [
       "0.07898255437612534"
      ]
     },
     "execution_count": 23,
     "metadata": {},
     "output_type": "execute_result"
    }
   ],
   "source": [
    "test_loss"
   ]
  },
  {
   "cell_type": "code",
   "execution_count": 24,
   "id": "f68f845f-5ff1-4a93-97c0-a683f018130f",
   "metadata": {},
   "outputs": [
    {
     "data": {
      "text/plain": [
       "0.9763000011444092"
      ]
     },
     "execution_count": 24,
     "metadata": {},
     "output_type": "execute_result"
    }
   ],
   "source": [
    "test_acc"
   ]
  },
  {
   "cell_type": "markdown",
   "id": "f013d69b-92c8-4427-9764-45d844c7521c",
   "metadata": {},
   "source": [
    "Eğitim ve başarı oranı görselleştirme işlemi ."
   ]
  },
  {
   "cell_type": "code",
   "execution_count": 25,
   "id": "92aacec6-0b1b-4936-b050-ec5eef2ff121",
   "metadata": {},
   "outputs": [
    {
     "data": {
      "image/png": "[encoded data removed]",
      "text/plain": [
       "<Figure size 640x480 with 1 Axes>"
      ]
     },
     "metadata": {},
     "output_type": "display_data"
    }
   ],
   "source": [
    "plt.figure()\n",
    "plt.plot(history.history[\"accuracy\"],marker=\"o\",label=\"Training Accuracy\")\n",
    "plt.plot(history.history[\"val_accuracy\"],marker=\"o\",label=\"Validation Accuracy\")\n",
    "plt.title(\"ANN Accuracy on MNIST Data Set\")\n",
    "plt.xlabel(\"Epoch\")\n",
    "plt.ylabel(\"Acc\")\n",
    "plt.legend()\n",
    "plt.grid(True)\n",
    "plt.show()"
   ]
  },
  {
   "cell_type": "markdown",
   "id": "e3c67c33-373c-4c67-b77c-443ff1c098a7",
   "metadata": {},
   "source": [
    "Eğitim ve hata değeri görselleştirme"
   ]
  },
  {
   "cell_type": "code",
   "execution_count": 26,
   "id": "9b983a29-5199-4ae0-a513-db8db83eb1a2",
   "metadata": {},
   "outputs": [
    {
     "data": {
      "image/png": "[encoded data removed]",
      "text/plain": [
       "<Figure size 640x480 with 1 Axes>"
      ]
     },
     "metadata": {},
     "output_type": "display_data"
    }
   ],
   "source": [
    "plt.figure()\n",
    "plt.plot(history.history[\"loss\"],marker=\"o\",label=\"Training Loss\")\n",
    "plt.plot(history.history[\"val_loss\"],marker=\"o\",label=\"Validation Loss\")\n",
    "plt.title(\"ANN Loss MNIST Data Set\")\n",
    "plt.xlabel(\"Epoch\")\n",
    "plt.ylabel(\"Loss\")\n",
    "plt.legend()\n",
    "plt.grid(True)\n",
    "plt.show()"
   ]
  },
  {
   "cell_type": "markdown",
   "id": "a1e1a60e-1fe1-4fa7-ae9d-4dcc4a20e5c2",
   "metadata": {},
   "source": [
    "### 10)Modelin Kaydedilmesi"
   ]
  },
  {
   "cell_type": "code",
   "execution_count": 27,
   "id": "85bc06bf-e2aa-4b74-b6e5-42b4e03ebb82",
   "metadata": {},
   "outputs": [
    {
     "name": "stderr",
     "output_type": "stream",
     "text": [
      "WARNING:absl:You are saving your model as an HDF5 file via `model.save()` or `keras.saving.save_model(model)`. This file format is considered legacy. We recommend using instead the native Keras format, e.g. `model.save('my_model.keras')` or `keras.saving.save_model(model, 'my_model.keras')`. \n"
     ]
    }
   ],
   "source": [
    "model.save(\"final_mnist_ann_model.h5\")"
   ]
  },
  {
   "cell_type": "markdown",
   "id": "dd119568-b2b1-43cc-98a3-3f4b936acfc1",
   "metadata": {},
   "source": [
    "### 11)Kayıtlı Modeli Yükleme"
   ]
  },
  {
   "cell_type": "code",
   "execution_count": 28,
   "id": "a847158e-14c1-409c-8a64-3c83b465b5bb",
   "metadata": {},
   "outputs": [
    {
     "name": "stderr",
     "output_type": "stream",
     "text": [
      "WARNING:absl:Compiled the loaded model, but the compiled metrics have yet to be built. `model.compile_metrics` will be empty until you train or evaluate the model.\n"
     ]
    },
    {
     "data": {
      "text/plain": [
       "<function keras.src.saving.saving_api.load_model(filepath, custom_objects=None, compile=True, safe_mode=True)>"
      ]
     },
     "execution_count": 28,
     "metadata": {},
     "output_type": "execute_result"
    }
   ],
   "source": [
    "loaded_model = load_model(\"ann_best_model.h5\")\n",
    "load_model"
   ]
  },
  {
   "cell_type": "code",
   "execution_count": null,
   "id": "4e9366b7-c8da-4f8f-8fdb-000eb5a67da2",
   "metadata": {},
   "outputs": [],
   "source": []
  }
 ],
 "metadata": {
  "kernelspec": {
   "display_name": "Python 3 (ipykernel)",
   "language": "python",
   "name": "python3"
  },
  "language_info": {
   "codemirror_mode": {
    "name": "ipython",
    "version": 3
   },
   "file_extension": ".py",
   "mimetype": "text/x-python",
   "name": "python",
   "nbconvert_exporter": "python",
   "pygments_lexer": "ipython3",
   "version": "3.12.7"
  }
 },
 "nbformat": 4,
 "nbformat_minor": 5
}
