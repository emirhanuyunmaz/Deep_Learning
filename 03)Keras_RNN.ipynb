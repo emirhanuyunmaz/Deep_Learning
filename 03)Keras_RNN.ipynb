{
 "cells": [
  {
   "cell_type": "markdown",
   "id": "5a784a31-06cd-4b2d-b43a-c978cb6e46f6",
   "metadata": {},
   "source": [
    "# Yinelemeli Sinir Ağları (Recurrent Neural Network)(RNN)"
   ]
  },
  {
   "cell_type": "code",
   "execution_count": 1,
   "id": "f6396064-dd53-4dd3-8a30-a256198aca41",
   "metadata": {},
   "outputs": [
    {
     "name": "stderr",
     "output_type": "stream",
     "text": [
      "C:\\Users\\emirh\\AppData\\Local\\Temp\\ipykernel_16380\\2507557446.py:14: DeprecationWarning: `import kerastuner` is deprecated, please use `import keras_tuner`.\n",
      "  import kerastuner as kt\n"
     ]
    }
   ],
   "source": [
    "import numpy as np\n",
    "import matplotlib.pyplot as plt\n",
    "\n",
    "import tensorflow as tf\n",
    "\n",
    "from tensorflow.keras.datasets import imdb # Veri Seti\n",
    "from tensorflow.keras.preprocessing.sequence import pad_sequences\n",
    "from tensorflow.keras.models import Sequential\n",
    "from tensorflow.keras.layers import Embedding , SimpleRNN , Dense , Dropout\n",
    "from tensorflow.keras.callbacks import EarlyStopping\n",
    "\n",
    "from sklearn.metrics import classification_report , roc_curve , auc\n",
    "\n",
    "import kerastuner as kt\n",
    "from kerastuner import RandomSearch\n",
    "\n",
    "import warnings\n",
    "warnings.filterwarnings(\"ignore\")"
   ]
  },
  {
   "cell_type": "markdown",
   "id": "fdef8d02-697f-46f6-98ef-7dde176f07ad",
   "metadata": {},
   "source": [
    "### 1)Veri Setinin Yüklenmesi\n",
    "imdb 50000 (0 => Olumsuz , 1 => Olumlu)"
   ]
  },
  {
   "cell_type": "code",
   "execution_count": 2,
   "id": "e0397a7d-83aa-439e-80e2-c5901f90fc49",
   "metadata": {},
   "outputs": [],
   "source": [
    "(x_train,y_train),(x_test,y_test) = imdb.load_data(num_words=10000) # num_words : En çok kullanılan 10000 kelime "
   ]
  },
  {
   "cell_type": "markdown",
   "id": "e9fa383b-de5b-45b1-94f9-26da8633a03e",
   "metadata": {},
   "source": [
    "### 2)Veri Ön İşleme"
   ]
  },
  {
   "cell_type": "markdown",
   "id": "e1618756-8e36-4c41-96f9-4a293e3f51ba",
   "metadata": {},
   "source": [
    "Yorumları aynı uzunluğa getirmek için padding yöntemi kullanımı."
   ]
  },
  {
   "cell_type": "code",
   "execution_count": 3,
   "id": "5b20dd6b-2798-49f8-a3c3-21652bab872b",
   "metadata": {},
   "outputs": [],
   "source": [
    "maxlen = 100\n",
    "x_train = pad_sequences(x_train,maxlen=maxlen) # train verisi uzunluğunu ayarla\n",
    "x_test = pad_sequences(x_test,maxlen=maxlen) #test verisi uzunluğu ayarla"
   ]
  },
  {
   "cell_type": "markdown",
   "id": "5245af2f-2ba8-407b-87a1-c8704e88ca46",
   "metadata": {},
   "source": [
    "### 3)Modelin Oluşturulması"
   ]
  },
  {
   "cell_type": "code",
   "execution_count": 4,
   "id": "2f27bbc3-0ff2-4e41-9275-b7a3c0fe9517",
   "metadata": {},
   "outputs": [],
   "source": [
    "#hp : hyperparameter\n",
    "def build_model(hp):\n",
    "    model = Sequential()\n",
    "    #Embedding Katmanı : Kelimeleri vektörlere çevirir (Vektör Boyutları : (32,64,96,128))\n",
    "    model.add(Embedding(input_dim=10000 , output_dim=hp.Int(\"embedding_output\",min_value=32 , max_value = 128 , step=32 ),input_length = maxlen))\n",
    "    #Simle RNN : RNN katmanı (RNN Hücre Sayısı : (32,64,96,128))\n",
    "    model.add(SimpleRNN(units=hp.Int(\"rnn_units\",min_value=32,max_value=128,step=32)))\n",
    "    #Dropout katmanı : Overfitting engellemek için rastgele bazı cel'leri kapatma işlemi\n",
    "    model.add(Dropout(rate=hp.Float(\"dropout_rate\",min_value=0.2,max_value=0.5,step=0.1)))\n",
    "    #Çıktı Katmanı 1 cell ve sigmoid (Sigmoid Activation :İkili sınıflandırma için kullanılır . (Çıktı 0 ya da 1 arasında olur.) ) \n",
    "    model.add(Dense(1,activation=\"sigmoid\"))\n",
    "    #Modelin Compile Edilmesi\n",
    "    model.compile(optimizer=hp.Choice(\"optimizer\",[\"adam\",\"rmsprop\"]),loss=\"binary_crossentropy\",metrics=[\"accuracy\",\"AUC\"])\n",
    "    return model"
   ]
  },
  {
   "cell_type": "markdown",
   "id": "f7762c5c-fd68-490b-8956-3a5f349b3661",
   "metadata": {},
   "source": [
    "### 4)Hiper Parametrelerin Belirlenmesi"
   ]
  },
  {
   "cell_type": "code",
   "execution_count": 5,
   "id": "77909b41-afa3-4fcf-93eb-922a05f1087e",
   "metadata": {},
   "outputs": [
    {
     "name": "stdout",
     "output_type": "stream",
     "text": [
      "Reloading Tuner from rnn_tuner_directory\\imdb_rnn\\tuner0.json\n"
     ]
    }
   ],
   "source": [
    "# build_model : optimize edilecek model fonk.\n",
    "#objective : \"val_loss\" # val_loss en düşük olan en iyisidir , val_accuracy yüksek olan iyidir.\n",
    "#max_trials : Denenecek model sayısı .\n",
    "#executions_per_trial : Her model için eğitim denemesi sayısı.\n",
    "#directory : Modelin kayıt edileceği dizin\n",
    "#project_name : Proje Adı\n",
    "tuner = RandomSearch(build_model,objective=\"val_loss\",max_trials = 2, executions_per_trial = 1,directory = \"rnn_tuner_directory\" ,project_name=\"imdb_rnn\")"
   ]
  },
  {
   "cell_type": "markdown",
   "id": "2e9568ad-66dd-4387-9f91-0388d1f21581",
   "metadata": {},
   "source": [
    "Ezberleme (Overfitting) engellemek için erken durdurma işlemi (early stopping)"
   ]
  },
  {
   "cell_type": "code",
   "execution_count": 6,
   "id": "b1e72955-eed2-435f-971f-217133f73028",
   "metadata": {},
   "outputs": [],
   "source": [
    "#patience : 3 epoch boyunca val_loss azalmazsa eğitim durdurulmasını sağlar.\n",
    "#restore_best_weights : En iyi ağirlikların yüklenmesi işlemi.\n",
    "early_stopping =  EarlyStopping(monitor=\"val_loss\",patience = 3, restore_best_weights=True)"
   ]
  },
  {
   "cell_type": "markdown",
   "id": "ef310b1c-75a7-4bb1-b15a-98648214637d",
   "metadata": {},
   "source": [
    "### 5)Model Eğitimi"
   ]
  },
  {
   "cell_type": "code",
   "execution_count": 7,
   "id": "ca051141-471f-4fd4-aaca-fcdfeec4e4a8",
   "metadata": {},
   "outputs": [],
   "source": [
    "#validation_split : %20 si validation olarak alınacak .\n",
    "# x_train,y_train,batch_size=256,epochs=30,validation_split=0.2\n",
    "tuner.search(x_train , y_train , batch_size=256 , epochs = 30 , validation_split = 0.2 , callbacks = [early_stopping] )"
   ]
  },
  {
   "cell_type": "markdown",
   "id": "17255378-a30f-4e62-8ddc-6e6bbeeabde4",
   "metadata": {},
   "source": [
    "### 6)Modelin Test Edilmesi"
   ]
  },
  {
   "cell_type": "code",
   "execution_count": 8,
   "id": "006eb5b1-1b2f-49a3-b799-29cb640e2fab",
   "metadata": {},
   "outputs": [
    {
     "name": "stdout",
     "output_type": "stream",
     "text": [
      "WARNING:tensorflow:From C:\\Users\\emirh\\anaconda3\\Lib\\site-packages\\keras\\src\\backend\\common\\global_state.py:82: The name tf.reset_default_graph is deprecated. Please use tf.compat.v1.reset_default_graph instead.\n",
      "\n"
     ]
    }
   ],
   "source": [
    "best_model = tuner.get_best_models(num_models=1)[0] # En iyi performans gösteren model"
   ]
  },
  {
   "cell_type": "code",
   "execution_count": 9,
   "id": "e95a59df-f412-4b6c-b553-f100ec0f564c",
   "metadata": {},
   "outputs": [
    {
     "name": "stdout",
     "output_type": "stream",
     "text": [
      "\u001b[1m782/782\u001b[0m \u001b[32m━━━━━━━━━━━━━━━━━━━━\u001b[0m\u001b[37m\u001b[0m \u001b[1m3s\u001b[0m 3ms/step - AUC: 0.9118 - accuracy: 0.8318 - loss: 0.3853\n"
     ]
    }
   ],
   "source": [
    "loss , accuracy , auc_score = best_model.evaluate(x_test,y_test)"
   ]
  },
  {
   "cell_type": "markdown",
   "id": "30ec8f10-7fe4-436a-a157-a4f847088061",
   "metadata": {},
   "source": [
    "Tahmin yapma ve modelin performansının değerlendirilmesi"
   ]
  },
  {
   "cell_type": "code",
   "execution_count": 10,
   "id": "e989e992-2a59-4f80-a32a-15ed73a90980",
   "metadata": {},
   "outputs": [
    {
     "name": "stdout",
     "output_type": "stream",
     "text": [
      "\u001b[1m782/782\u001b[0m \u001b[32m━━━━━━━━━━━━━━━━━━━━\u001b[0m\u001b[37m\u001b[0m \u001b[1m3s\u001b[0m 3ms/step\n",
      "              precision    recall  f1-score   support\n",
      "\n",
      "           0       0.86      0.79      0.83     12500\n",
      "           1       0.81      0.87      0.84     12500\n",
      "\n",
      "    accuracy                           0.83     25000\n",
      "   macro avg       0.84      0.83      0.83     25000\n",
      "weighted avg       0.84      0.83      0.83     25000\n",
      "\n"
     ]
    }
   ],
   "source": [
    "y_pred_prob = best_model.predict(x_test)\n",
    "y_pred = (y_pred_prob > 0.5 ).astype(\"int32\")\n",
    "result = classification_report(y_test,y_pred)\n",
    "print(result)"
   ]
  },
  {
   "cell_type": "markdown",
   "id": "36e9eca0-1c9d-427e-8985-b3a52afdf31c",
   "metadata": {},
   "source": [
    "### 7)Roc Eğrisi Hesaplama"
   ]
  },
  {
   "cell_type": "code",
   "execution_count": 11,
   "id": "4f811d5b-5174-45f7-8c1d-9f8f7b14b132",
   "metadata": {},
   "outputs": [],
   "source": [
    "fpr , tpr , _ = roc_curve(y_test,y_pred_prob) # Roc eğrisi için fpr (false positive rate) ve tpr (true positive rate) hesaplama \n",
    "roc_auc = auc(fpr,tpr) # Roc eğrisi altında kalan alan hesaplanır . "
   ]
  },
  {
   "cell_type": "markdown",
   "id": "d9731673-efcb-4618-8f79-21e9b9e1f1b1",
   "metadata": {},
   "source": [
    "### 8)Roc Eğrisi Görselleştirme"
   ]
  },
  {
   "cell_type": "code",
   "execution_count": 12,
   "id": "7adf23f2-0d38-40df-9b30-b756d2c9b6e8",
   "metadata": {},
   "outputs": [
    {
     "data": {
      "image/png": "[encoded data removed]",
      "text/plain": [
       "<Figure size 640x480 with 1 Axes>"
      ]
     },
     "metadata": {},
     "output_type": "display_data"
    }
   ],
   "source": [
    "plt.figure()\n",
    "plt.plot(fpr , tpr , color = \"darkorange\" , lw = 2 , label = \"Roc Curve (area = %0.2f)\"%roc_auc)\n",
    "plt.plot([0,1] , [0,1] , color = \"blue\" , lw = 2 , linestyle = \"--\") # Rastgele tahmin çizgisi\n",
    "plt.xlim([0,1])\n",
    "plt.ylim([0,1.05])\n",
    "plt.xlabel(\"FPR\")\n",
    "plt.ylabel(\"TPR\")\n",
    "plt.title(\"Receiver Operating Characteristic (ROC) Curve\")\n",
    "plt.legend()\n",
    "plt.show()"
   ]
  },
  {
   "cell_type": "code",
   "execution_count": null,
   "id": "3eb56eba-25f0-4027-b6ae-44c8461caf91",
   "metadata": {},
   "outputs": [],
   "source": []
  }
 ],
 "metadata": {
  "kernelspec": {
   "display_name": "Python 3 (ipykernel)",
   "language": "python",
   "name": "python3"
  },
  "language_info": {
   "codemirror_mode": {
    "name": "ipython",
    "version": 3
   },
   "file_extension": ".py",
   "mimetype": "text/x-python",
   "name": "python",
   "nbconvert_exporter": "python",
   "pygments_lexer": "ipython3",
   "version": "3.12.7"
  }
 },
 "nbformat": 4,
 "nbformat_minor": 5
}
