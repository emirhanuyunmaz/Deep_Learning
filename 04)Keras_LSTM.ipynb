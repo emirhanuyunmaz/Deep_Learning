{
 "cells": [
  {
   "cell_type": "markdown",
   "id": "2826fe17-b4c6-403a-be18-7a75c688f293",
   "metadata": {},
   "source": [
    "# Uzun Kısa Süreli Bellek (Long Short Term Memory)(LS)"
   ]
  },
  {
   "cell_type": "code",
   "execution_count": 1,
   "id": "abff6f1f-4f01-4ad9-a05c-75694084db47",
   "metadata": {},
   "outputs": [],
   "source": [
    "import numpy as np\n",
    "import pandas as pd\n",
    "import matplotlib.pyplot as plt \n",
    "\n",
    "from sklearn.datasets import fetch_20newsgroups # 20 farklı kategoride haber metinlerini getirir.\n",
    "from sklearn.preprocessing import LabelEncoder # Etiketleri sayısal formata çevirir .\n",
    "from sklearn.model_selection import train_test_split # Veriyi eğitim ve test olarak parçalar .\n",
    "\n",
    "from tensorflow.keras.preprocessing.text import Tokenizer # Metin verisini sayıya çevirir .\n",
    "from tensorflow.keras.preprocessing.sequence import pad_sequences # Dizileri aynı uzunluğa getirir .\n",
    "from tensorflow.keras.models import Sequential # Keras'ta model oluşturma sınıfı.\n",
    "from tensorflow.keras.layers import Embedding , LSTM , Dense , Dropout\n",
    "from tensorflow.keras.callbacks import EarlyStopping\n",
    "\n",
    "import warnings\n",
    "warnings.filterwarnings(\"ignore\")"
   ]
  },
  {
   "cell_type": "markdown",
   "id": "6dcc707e-70fb-4881-be00-f15f4f2bd868",
   "metadata": {},
   "source": [
    "### 1)Veri Setinin Yüklenmesi "
   ]
  },
  {
   "cell_type": "code",
   "execution_count": 2,
   "id": "ad36dc0e-8e5c-495e-9030-bc3c9444c3f7",
   "metadata": {},
   "outputs": [],
   "source": [
    "newsgroup = fetch_20newsgroups(subset=\"all\") # Tüm verilerin yüklenmesi işlemi ."
   ]
  },
  {
   "cell_type": "markdown",
   "id": "5af20609-d04c-4ab1-9404-192f06344f90",
   "metadata": {},
   "source": [
    "### 2)Veri Ön İşleme"
   ]
  },
  {
   "cell_type": "code",
   "execution_count": 3,
   "id": "50fe64f6-8d28-4c7a-85b9-db96f194651f",
   "metadata": {},
   "outputs": [],
   "source": [
    "X = newsgroup.data # Metinler \n",
    "Y = newsgroup.target # Metinlere karşılık gelen etiketler"
   ]
  },
  {
   "cell_type": "markdown",
   "id": "414a3e4e-3c58-4914-a9d5-43eb30ab9ed7",
   "metadata": {},
   "source": [
    "Metin verisini tokenize etme ve padding işlemleri "
   ]
  },
  {
   "cell_type": "code",
   "execution_count": 4,
   "id": "d3be7822-19e6-4f3f-b5f1-f01fa3990d0b",
   "metadata": {},
   "outputs": [],
   "source": [
    "tokenizer = Tokenizer(num_words=10000) # num_words : En çok kullanılan kelime sayısı.\n",
    "tokenizer.fit_on_texts(X) # Tokenizer i metin verisi ile fit edelim\n",
    "X_sequences = tokenizer.texts_to_sequences(X) # Metinleri sayısala çevirme işlemi\n",
    "X_padded = pad_sequences(X_sequences,maxlen=100) # Metinleri aynı uzunluğa getirme işlemi."
   ]
  },
  {
   "cell_type": "markdown",
   "id": "76ba918d-c9ad-407d-bf4a-94d6083b9f58",
   "metadata": {},
   "source": [
    "Etiketleri sayısal hale dönüştürme . (Label Encoding)"
   ]
  },
  {
   "cell_type": "code",
   "execution_count": 5,
   "id": "de3ff9d7-53e3-406b-9585-e3bf893127cb",
   "metadata": {},
   "outputs": [],
   "source": [
    "label_encoder = LabelEncoder()\n",
    "y_encoded = label_encoder.fit_transform(Y)"
   ]
  },
  {
   "cell_type": "markdown",
   "id": "e79c3672-ca31-425f-84e2-d8c6db2d335a",
   "metadata": {},
   "source": [
    "Verileri Train/Test olarak ayrılması işlemi "
   ]
  },
  {
   "cell_type": "code",
   "execution_count": 6,
   "id": "0ea94ff7-ef87-427f-bc7d-fbe5e32f16e3",
   "metadata": {},
   "outputs": [],
   "source": [
    "x_train , x_test , y_train , y_test = train_test_split( X_padded , y_encoded,test_size = 0.2 , random_state = 42 )"
   ]
  },
  {
   "cell_type": "code",
   "execution_count": 7,
   "id": "0cdb137f-6315-4487-ab4b-80962a46bf78",
   "metadata": {},
   "outputs": [],
   "source": [
    "from tensorflow.keras import backend as B \n",
    "#Bir model değerlendirme işlemi olan f1_score fonk. yazılması işlemi\n",
    "def f1_score(y_true,y_preds):\n",
    "    y_pred = B.round(y_preds)\n",
    "    print(y_true,y_preds)\n",
    "    tp = B.sum(B.cast(y_true * y_preds , \"float\"),axis=0)\n",
    "    fp = B.sum(B.cast((1 - y_true)*y_preds,\"float\"),axis=0)\n",
    "    fn = B.sum(B.cast(y_true*(1 - y_preds),\"float\"),axis=0)\n",
    "\n",
    "    precision = tp / ( tp + fp + B.epsilon() )\n",
    "    recall = tp / (tp + fn + B.epsilon() )\n",
    "    f1 = 2 * (precision * recall) / (precision + recall + B.epsilon())\n",
    "    result = B.mean(f1)\n",
    "\n",
    "    return result"
   ]
  },
  {
   "cell_type": "markdown",
   "id": "4d766635-912c-4c88-8387-574bdd101fff",
   "metadata": {},
   "source": [
    "### 3) Eğitim Modelinin Oluşturulması \n",
    "(LSTM Model)"
   ]
  },
  {
   "cell_type": "code",
   "execution_count": 8,
   "id": "2b864852-2a34-4371-b15a-43493f3a1111",
   "metadata": {},
   "outputs": [],
   "source": [
    "# Katmanlar => Embedding + LSTM + Dropout + Output\n",
    "\n",
    "def build_lstm_model():\n",
    "    model = Sequential()\n",
    "\n",
    "    #Embedding Katmanı\n",
    "    #input_dim : Kelime Vektörlerinin toplam boyutu\n",
    "    #output_dim : Kelime vektürlerinin boyutu\n",
    "    #input_length : Her Giriş Metninin Boyutu\n",
    "    model.add(Embedding(input_dim = 10000 , output_dim = 64 , input_length = 100 ))\n",
    "\n",
    "    #LSTM Katmanı\n",
    "    #return_sequence : Sonuçları tüm zaman adımı yerine son adımda return edilmesi .\n",
    "    model.add(LSTM(units = 64 , return_sequences = False ))\n",
    "    \n",
    "    #Dropout\n",
    "    model.add(Dropout(0.5))\n",
    "\n",
    "    #Dense Katmanı (OUTPUT)\n",
    "    model.add(Dense(20,activation = \"softmax\"))\n",
    "\n",
    "    #Model Compile\n",
    "    model.compile(optimizer = \"adam\" , loss = \"sparse_categorical_crossentropy\" , metrics = [\"accuracy\"])\n",
    "\n",
    "    return model\n"
   ]
  },
  {
   "cell_type": "code",
   "execution_count": 9,
   "id": "e5666b79-35ba-49dd-b312-7dccdb42a0da",
   "metadata": {},
   "outputs": [],
   "source": [
    "models = build_lstm_model()\n",
    "models.build(input_shape=(None, 100))"
   ]
  },
  {
   "cell_type": "code",
   "execution_count": 10,
   "id": "0fd524f1-0160-4d7c-a6d7-7088c2df3bc5",
   "metadata": {},
   "outputs": [
    {
     "data": {
      "text/html": [
       "<pre style=\"white-space:pre;overflow-x:auto;line-height:normal;font-family:Menlo,'DejaVu Sans Mono',consolas,'Courier New',monospace\"><span style=\"font-weight: bold\">Model: \"sequential\"</span>\n",
       "</pre>\n"
      ],
      "text/plain": [
       "\u001b[1mModel: \"sequential\"\u001b[0m\n"
      ]
     },
     "metadata": {},
     "output_type": "display_data"
    },
    {
     "data": {
      "text/html": [
       "<pre style=\"white-space:pre;overflow-x:auto;line-height:normal;font-family:Menlo,'DejaVu Sans Mono',consolas,'Courier New',monospace\">┏━━━━━━━━━━━━━━━━━━━━━━━━━━━━━━━━━━━━━━┳━━━━━━━━━━━━━━━━━━━━━━━━━━━━━┳━━━━━━━━━━━━━━━━━┓\n",
       "┃<span style=\"font-weight: bold\"> Layer (type)                         </span>┃<span style=\"font-weight: bold\"> Output Shape                </span>┃<span style=\"font-weight: bold\">         Param # </span>┃\n",
       "┡━━━━━━━━━━━━━━━━━━━━━━━━━━━━━━━━━━━━━━╇━━━━━━━━━━━━━━━━━━━━━━━━━━━━━╇━━━━━━━━━━━━━━━━━┩\n",
       "│ embedding (<span style=\"color: #0087ff; text-decoration-color: #0087ff\">Embedding</span>)                │ (<span style=\"color: #00d7ff; text-decoration-color: #00d7ff\">None</span>, <span style=\"color: #00af00; text-decoration-color: #00af00\">100</span>, <span style=\"color: #00af00; text-decoration-color: #00af00\">64</span>)             │         <span style=\"color: #00af00; text-decoration-color: #00af00\">640,000</span> │\n",
       "├──────────────────────────────────────┼─────────────────────────────┼─────────────────┤\n",
       "│ lstm (<span style=\"color: #0087ff; text-decoration-color: #0087ff\">LSTM</span>)                          │ (<span style=\"color: #00d7ff; text-decoration-color: #00d7ff\">None</span>, <span style=\"color: #00af00; text-decoration-color: #00af00\">64</span>)                  │          <span style=\"color: #00af00; text-decoration-color: #00af00\">33,024</span> │\n",
       "├──────────────────────────────────────┼─────────────────────────────┼─────────────────┤\n",
       "│ dropout (<span style=\"color: #0087ff; text-decoration-color: #0087ff\">Dropout</span>)                    │ (<span style=\"color: #00d7ff; text-decoration-color: #00d7ff\">None</span>, <span style=\"color: #00af00; text-decoration-color: #00af00\">64</span>)                  │               <span style=\"color: #00af00; text-decoration-color: #00af00\">0</span> │\n",
       "├──────────────────────────────────────┼─────────────────────────────┼─────────────────┤\n",
       "│ dense (<span style=\"color: #0087ff; text-decoration-color: #0087ff\">Dense</span>)                        │ (<span style=\"color: #00d7ff; text-decoration-color: #00d7ff\">None</span>, <span style=\"color: #00af00; text-decoration-color: #00af00\">20</span>)                  │           <span style=\"color: #00af00; text-decoration-color: #00af00\">1,300</span> │\n",
       "└──────────────────────────────────────┴─────────────────────────────┴─────────────────┘\n",
       "</pre>\n"
      ],
      "text/plain": [
       "┏━━━━━━━━━━━━━━━━━━━━━━━━━━━━━━━━━━━━━━┳━━━━━━━━━━━━━━━━━━━━━━━━━━━━━┳━━━━━━━━━━━━━━━━━┓\n",
       "┃\u001b[1m \u001b[0m\u001b[1mLayer (type)                        \u001b[0m\u001b[1m \u001b[0m┃\u001b[1m \u001b[0m\u001b[1mOutput Shape               \u001b[0m\u001b[1m \u001b[0m┃\u001b[1m \u001b[0m\u001b[1m        Param #\u001b[0m\u001b[1m \u001b[0m┃\n",
       "┡━━━━━━━━━━━━━━━━━━━━━━━━━━━━━━━━━━━━━━╇━━━━━━━━━━━━━━━━━━━━━━━━━━━━━╇━━━━━━━━━━━━━━━━━┩\n",
       "│ embedding (\u001b[38;5;33mEmbedding\u001b[0m)                │ (\u001b[38;5;45mNone\u001b[0m, \u001b[38;5;34m100\u001b[0m, \u001b[38;5;34m64\u001b[0m)             │         \u001b[38;5;34m640,000\u001b[0m │\n",
       "├──────────────────────────────────────┼─────────────────────────────┼─────────────────┤\n",
       "│ lstm (\u001b[38;5;33mLSTM\u001b[0m)                          │ (\u001b[38;5;45mNone\u001b[0m, \u001b[38;5;34m64\u001b[0m)                  │          \u001b[38;5;34m33,024\u001b[0m │\n",
       "├──────────────────────────────────────┼─────────────────────────────┼─────────────────┤\n",
       "│ dropout (\u001b[38;5;33mDropout\u001b[0m)                    │ (\u001b[38;5;45mNone\u001b[0m, \u001b[38;5;34m64\u001b[0m)                  │               \u001b[38;5;34m0\u001b[0m │\n",
       "├──────────────────────────────────────┼─────────────────────────────┼─────────────────┤\n",
       "│ dense (\u001b[38;5;33mDense\u001b[0m)                        │ (\u001b[38;5;45mNone\u001b[0m, \u001b[38;5;34m20\u001b[0m)                  │           \u001b[38;5;34m1,300\u001b[0m │\n",
       "└──────────────────────────────────────┴─────────────────────────────┴─────────────────┘\n"
      ]
     },
     "metadata": {},
     "output_type": "display_data"
    },
    {
     "data": {
      "text/html": [
       "<pre style=\"white-space:pre;overflow-x:auto;line-height:normal;font-family:Menlo,'DejaVu Sans Mono',consolas,'Courier New',monospace\"><span style=\"font-weight: bold\"> Total params: </span><span style=\"color: #00af00; text-decoration-color: #00af00\">674,324</span> (2.57 MB)\n",
       "</pre>\n"
      ],
      "text/plain": [
       "\u001b[1m Total params: \u001b[0m\u001b[38;5;34m674,324\u001b[0m (2.57 MB)\n"
      ]
     },
     "metadata": {},
     "output_type": "display_data"
    },
    {
     "data": {
      "text/html": [
       "<pre style=\"white-space:pre;overflow-x:auto;line-height:normal;font-family:Menlo,'DejaVu Sans Mono',consolas,'Courier New',monospace\"><span style=\"font-weight: bold\"> Trainable params: </span><span style=\"color: #00af00; text-decoration-color: #00af00\">674,324</span> (2.57 MB)\n",
       "</pre>\n"
      ],
      "text/plain": [
       "\u001b[1m Trainable params: \u001b[0m\u001b[38;5;34m674,324\u001b[0m (2.57 MB)\n"
      ]
     },
     "metadata": {},
     "output_type": "display_data"
    },
    {
     "data": {
      "text/html": [
       "<pre style=\"white-space:pre;overflow-x:auto;line-height:normal;font-family:Menlo,'DejaVu Sans Mono',consolas,'Courier New',monospace\"><span style=\"font-weight: bold\"> Non-trainable params: </span><span style=\"color: #00af00; text-decoration-color: #00af00\">0</span> (0.00 B)\n",
       "</pre>\n"
      ],
      "text/plain": [
       "\u001b[1m Non-trainable params: \u001b[0m\u001b[38;5;34m0\u001b[0m (0.00 B)\n"
      ]
     },
     "metadata": {},
     "output_type": "display_data"
    }
   ],
   "source": [
    "models.summary()"
   ]
  },
  {
   "cell_type": "markdown",
   "id": "655b880d-d476-4a83-84d5-17f025de17b6",
   "metadata": {},
   "source": [
    "### 4)Modelin Eğitimi"
   ]
  },
  {
   "cell_type": "markdown",
   "id": "c7995ed9-c554-462e-bd26-da6eaef68784",
   "metadata": {},
   "source": [
    "Callbacks (Early Stopping)"
   ]
  },
  {
   "cell_type": "code",
   "execution_count": 11,
   "id": "084c26b4-957b-470f-9a31-ac0e92a3af27",
   "metadata": {},
   "outputs": [],
   "source": [
    "early_stopping = EarlyStopping(monitor = \"val_accuracy\",patience = 5 , restore_best_weights = True)"
   ]
  },
  {
   "cell_type": "code",
   "execution_count": 12,
   "id": "749258f1-c269-48fb-b2af-e35f66e6650b",
   "metadata": {},
   "outputs": [
    {
     "name": "stdout",
     "output_type": "stream",
     "text": [
      "Epoch 1/20\n",
      "\u001b[1m424/424\u001b[0m \u001b[32m━━━━━━━━━━━━━━━━━━━━\u001b[0m\u001b[37m\u001b[0m \u001b[1m10s\u001b[0m 20ms/step - accuracy: 0.1078 - loss: 2.8540 - val_accuracy: 0.2924 - val_loss: 2.1484\n",
      "Epoch 2/20\n",
      "\u001b[1m424/424\u001b[0m \u001b[32m━━━━━━━━━━━━━━━━━━━━\u001b[0m\u001b[37m\u001b[0m \u001b[1m8s\u001b[0m 20ms/step - accuracy: 0.3269 - loss: 1.9858 - val_accuracy: 0.3932 - val_loss: 1.8492\n",
      "Epoch 3/20\n",
      "\u001b[1m424/424\u001b[0m \u001b[32m━━━━━━━━━━━━━━━━━━━━\u001b[0m\u001b[37m\u001b[0m \u001b[1m9s\u001b[0m 20ms/step - accuracy: 0.4714 - loss: 1.5460 - val_accuracy: 0.4881 - val_loss: 1.6326\n",
      "Epoch 4/20\n",
      "\u001b[1m424/424\u001b[0m \u001b[32m━━━━━━━━━━━━━━━━━━━━\u001b[0m\u001b[37m\u001b[0m \u001b[1m8s\u001b[0m 20ms/step - accuracy: 0.5705 - loss: 1.2645 - val_accuracy: 0.5776 - val_loss: 1.3155\n",
      "Epoch 5/20\n",
      "\u001b[1m424/424\u001b[0m \u001b[32m━━━━━━━━━━━━━━━━━━━━\u001b[0m\u001b[37m\u001b[0m \u001b[1m8s\u001b[0m 20ms/step - accuracy: 0.6802 - loss: 1.0181 - val_accuracy: 0.6034 - val_loss: 1.2578\n",
      "Epoch 6/20\n",
      "\u001b[1m424/424\u001b[0m \u001b[32m━━━━━━━━━━━━━━━━━━━━\u001b[0m\u001b[37m\u001b[0m \u001b[1m9s\u001b[0m 20ms/step - accuracy: 0.7735 - loss: 0.7457 - val_accuracy: 0.6505 - val_loss: 1.1796\n",
      "Epoch 7/20\n",
      "\u001b[1m424/424\u001b[0m \u001b[32m━━━━━━━━━━━━━━━━━━━━\u001b[0m\u001b[37m\u001b[0m \u001b[1m9s\u001b[0m 20ms/step - accuracy: 0.8333 - loss: 0.5712 - val_accuracy: 0.6837 - val_loss: 1.1627\n",
      "Epoch 8/20\n",
      "\u001b[1m424/424\u001b[0m \u001b[32m━━━━━━━━━━━━━━━━━━━━\u001b[0m\u001b[37m\u001b[0m \u001b[1m9s\u001b[0m 20ms/step - accuracy: 0.8694 - loss: 0.4539 - val_accuracy: 0.6883 - val_loss: 1.1445\n",
      "Epoch 9/20\n",
      "\u001b[1m424/424\u001b[0m \u001b[32m━━━━━━━━━━━━━━━━━━━━\u001b[0m\u001b[37m\u001b[0m \u001b[1m9s\u001b[0m 20ms/step - accuracy: 0.9039 - loss: 0.3514 - val_accuracy: 0.6963 - val_loss: 1.2276\n",
      "Epoch 10/20\n",
      "\u001b[1m424/424\u001b[0m \u001b[32m━━━━━━━━━━━━━━━━━━━━\u001b[0m\u001b[37m\u001b[0m \u001b[1m9s\u001b[0m 20ms/step - accuracy: 0.9153 - loss: 0.3134 - val_accuracy: 0.7069 - val_loss: 1.1512\n",
      "Epoch 11/20\n",
      "\u001b[1m424/424\u001b[0m \u001b[32m━━━━━━━━━━━━━━━━━━━━\u001b[0m\u001b[37m\u001b[0m \u001b[1m9s\u001b[0m 20ms/step - accuracy: 0.9097 - loss: 0.3359 - val_accuracy: 0.7122 - val_loss: 1.2233\n",
      "Epoch 12/20\n",
      "\u001b[1m424/424\u001b[0m \u001b[32m━━━━━━━━━━━━━━━━━━━━\u001b[0m\u001b[37m\u001b[0m \u001b[1m9s\u001b[0m 20ms/step - accuracy: 0.9474 - loss: 0.2202 - val_accuracy: 0.7347 - val_loss: 1.1567\n",
      "Epoch 13/20\n",
      "\u001b[1m424/424\u001b[0m \u001b[32m━━━━━━━━━━━━━━━━━━━━\u001b[0m\u001b[37m\u001b[0m \u001b[1m9s\u001b[0m 21ms/step - accuracy: 0.9562 - loss: 0.1759 - val_accuracy: 0.7221 - val_loss: 1.2480\n",
      "Epoch 14/20\n",
      "\u001b[1m424/424\u001b[0m \u001b[32m━━━━━━━━━━━━━━━━━━━━\u001b[0m\u001b[37m\u001b[0m \u001b[1m9s\u001b[0m 21ms/step - accuracy: 0.9643 - loss: 0.1533 - val_accuracy: 0.7248 - val_loss: 1.2739\n",
      "Epoch 15/20\n",
      "\u001b[1m424/424\u001b[0m \u001b[32m━━━━━━━━━━━━━━━━━━━━\u001b[0m\u001b[37m\u001b[0m \u001b[1m9s\u001b[0m 20ms/step - accuracy: 0.9713 - loss: 0.1204 - val_accuracy: 0.7261 - val_loss: 1.3473\n",
      "Epoch 16/20\n",
      "\u001b[1m424/424\u001b[0m \u001b[32m━━━━━━━━━━━━━━━━━━━━\u001b[0m\u001b[37m\u001b[0m \u001b[1m9s\u001b[0m 20ms/step - accuracy: 0.9655 - loss: 0.1382 - val_accuracy: 0.6916 - val_loss: 1.4886\n",
      "Epoch 17/20\n",
      "\u001b[1m424/424\u001b[0m \u001b[32m━━━━━━━━━━━━━━━━━━━━\u001b[0m\u001b[37m\u001b[0m \u001b[1m9s\u001b[0m 21ms/step - accuracy: 0.9601 - loss: 0.1579 - val_accuracy: 0.7221 - val_loss: 1.3886\n"
     ]
    }
   ],
   "source": [
    "history = models.fit(x_train , y_train , epochs = 20 , batch_size = 32 , validation_split = 0.1 ,callbacks = [early_stopping])"
   ]
  },
  {
   "cell_type": "markdown",
   "id": "02dfeb38-f871-4fd5-91e6-1fc2b621bc89",
   "metadata": {},
   "source": [
    "### 5)Model Değerlendirilmesi"
   ]
  },
  {
   "cell_type": "code",
   "execution_count": 13,
   "id": "e1c3bf6f-1634-481f-993d-0fddd4505a80",
   "metadata": {},
   "outputs": [
    {
     "name": "stdout",
     "output_type": "stream",
     "text": [
      "\u001b[1m118/118\u001b[0m \u001b[32m━━━━━━━━━━━━━━━━━━━━\u001b[0m\u001b[37m\u001b[0m \u001b[1m1s\u001b[0m 8ms/step - accuracy: 0.7105 - loss: 1.2203\n",
      "Test Loss : 1.1826 Test Accuracy : 0.7218\n"
     ]
    }
   ],
   "source": [
    "loss , accuracy = models.evaluate(x_test,y_test)\n",
    "print(f\"Test Loss : {loss:.4f} Test Accuracy : {accuracy:.4f}\")"
   ]
  },
  {
   "cell_type": "markdown",
   "id": "d7b454ed-e688-40c7-a5b4-64f7b53ba24a",
   "metadata": {},
   "source": [
    "Sonuçların görselleştirilmesi"
   ]
  },
  {
   "cell_type": "code",
   "execution_count": 14,
   "id": "1b625ed1-716f-4e9e-bf15-b58c2eebd471",
   "metadata": {},
   "outputs": [
    {
     "data": {
      "image/png": "[encoded data removed]",
      "text/plain": [
       "<Figure size 640x480 with 2 Axes>"
      ]
     },
     "metadata": {},
     "output_type": "display_data"
    }
   ],
   "source": [
    "plt.figure()\n",
    "\n",
    "plt.subplot(1,2,1)\n",
    "plt.plot(history.history[\"loss\"],label=\"Training Loss\")\n",
    "plt.plot(history.history[\"val_loss\"],label=\"Validation Loss\")\n",
    "plt.title(\"Training And Validation Loss\")\n",
    "plt.xlabel(\"Epochs\")\n",
    "plt.ylabel(\"Loss\")\n",
    "plt.legend()\n",
    "plt.grid(\"True\")\n",
    "\n",
    "plt.subplot(1,2,2)\n",
    "plt.plot(history.history[\"accuracy\"],label=\"Training Accuracy\")\n",
    "plt.plot(history.history[\"val_accuracy\"],label=\"Validation Accuracy\")\n",
    "plt.title(\"Training And Validation Accuracy\")\n",
    "plt.xlabel(\"Epochs\")\n",
    "plt.ylabel(\"Accuracy\")\n",
    "plt.legend()\n",
    "plt.grid(\"True\")"
   ]
  },
  {
   "cell_type": "code",
   "execution_count": null,
   "id": "2352dd6f-513f-42fa-a074-4cf64a7d04a1",
   "metadata": {},
   "outputs": [],
   "source": []
  }
 ],
 "metadata": {
  "kernelspec": {
   "display_name": "Python 3 (ipykernel)",
   "language": "python",
   "name": "python3"
  },
  "language_info": {
   "codemirror_mode": {
    "name": "ipython",
    "version": 3
   },
   "file_extension": ".py",
   "mimetype": "text/x-python",
   "name": "python",
   "nbconvert_exporter": "python",
   "pygments_lexer": "ipython3",
   "version": "3.12.7"
  }
 },
 "nbformat": 4,
 "nbformat_minor": 5
}
