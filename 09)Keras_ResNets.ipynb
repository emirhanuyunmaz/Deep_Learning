{
 "cells": [
  {
   "cell_type": "code",
   "execution_count": 1,
   "id": "faadc1c4-a9de-46b4-beea-01342608adaa",
   "metadata": {},
   "outputs": [],
   "source": [
    "import tensorflow as tf\n",
    "\n",
    "from tensorflow.keras.datasets import fashion_mnist\n",
    "from tensorflow.keras.layers import Conv2D, BatchNormalization, Activation, Add, Flatten, Dense, Input \n",
    "from tensorflow.keras.models import Model\n",
    "from tensorflow.keras.optimizers import Adam\n",
    "from tensorflow.keras.utils import to_categorical\n",
    "\n",
    "from keras_tuner import HyperModel, RandomSearch # hyperparameter tuning için\n"
   ]
  },
  {
   "cell_type": "markdown",
   "id": "b7d4be74-73c3-4be5-8020-c950b9be8944",
   "metadata": {},
   "source": [
    "### 1)Veri Setinin Yüklenmesi"
   ]
  },
  {
   "cell_type": "code",
   "execution_count": 2,
   "id": "d07f65c6-a697-47c1-b31d-3ef5c319511a",
   "metadata": {},
   "outputs": [],
   "source": [
    "(train_images, train_labels), (test_images, test_labels) = fashion_mnist.load_data()"
   ]
  },
  {
   "cell_type": "markdown",
   "id": "c029a053-4286-4c99-8fc4-709df5c2b161",
   "metadata": {},
   "source": [
    "### 2)Veri Setinin Boyut Düzenlemesi ve Normalizasyonu"
   ]
  },
  {
   "cell_type": "code",
   "execution_count": 3,
   "id": "1de9fba4-4575-4de7-9a58-5a54682e1b01",
   "metadata": {},
   "outputs": [],
   "source": [
    "# veri setinin reshape yapalim (28x28) -> (28x28x1), normalizasyon (/255)\n",
    "train_images = train_images.reshape(-1, 28, 28, 1).astype(\"float32\") / 255.0\n",
    "test_images = test_images.reshape(-1, 28, 28, 1).astype(\"float32\") / 255.0"
   ]
  },
  {
   "cell_type": "markdown",
   "id": "ca89bd00-6924-4ced-b0a4-812ef6f9bf9d",
   "metadata": {},
   "source": [
    "### 3)Etiketleri One-Hot Encoding ile Düzenlenmesi"
   ]
  },
  {
   "cell_type": "code",
   "execution_count": 4,
   "id": "0eed08f7-a5ba-4a67-be29-e115948bb26a",
   "metadata": {},
   "outputs": [],
   "source": [
    "train_labels = to_categorical(train_labels, 10)\n",
    "test_labels = to_categorical(test_labels, 10)"
   ]
  },
  {
   "cell_type": "markdown",
   "id": "155fa2d0-0e0a-4352-affa-dd8612b819c7",
   "metadata": {},
   "source": [
    "### 4)Residual Block Hazırlanılması"
   ]
  },
  {
   "cell_type": "code",
   "execution_count": 6,
   "id": "351d963a-c873-4d9f-9d54-6c76328b3f85",
   "metadata": {},
   "outputs": [],
   "source": [
    "def residual_block(x, filters, kernel_size = 3, stride = 1):\n",
    "    \n",
    "    shortcut = x\n",
    "    \n",
    "    # 1. Conv katmanı\n",
    "    x = Conv2D(filters, kernel_size = kernel_size, strides = stride, padding = \"same\")(x)\n",
    "    x = BatchNormalization()(x) # Normalizasyon işlemi\n",
    "    x = Activation(\"relu\")(x) # Aktivasyon fonksiyonu\n",
    "    \n",
    "    # 2. conv katmani\n",
    "    x = Conv2D(filters, kernel_size = kernel_size, strides = stride, padding = \"same\")(x)\n",
    "    x = BatchNormalization()(x) \n",
    "    \n",
    "    # eger giristen gelen verinin boyutu filtre sayısına eşit değilse\n",
    "    if shortcut.shape[-1] != filters:\n",
    "        # Giriş verisinin boyutunu eşitlemek icin 1x1 konvolusyon işlemi\n",
    "        shortcut = Conv2D(filters, kernel_size=1, strides = stride, padding = \"same\")(shortcut)\n",
    "        shortcut = BatchNormalization()(shortcut)\n",
    "    \n",
    "    # Residual Bağlantı : Giriş verisi ile çikiş verisini toplayalım\n",
    "    x = Add()([x, shortcut])\n",
    "    x = Activation(\"relu\")(x)\n",
    "    \n",
    "    return x\n",
    "    "
   ]
  },
  {
   "cell_type": "markdown",
   "id": "29f7ea75-75e5-4995-884f-88014a84040a",
   "metadata": {},
   "source": [
    "### 5)Model Create - Compile"
   ]
  },
  {
   "cell_type": "code",
   "execution_count": 7,
   "id": "b59f626c-8902-4e20-b6dd-6ee66ed62293",
   "metadata": {},
   "outputs": [],
   "source": [
    "class ResNetModel(HyperModel):\n",
    "    \n",
    "    def build(self, hp): # hp = hyper parameter tuning için kullanılacak parametre\n",
    "    \n",
    "        inputs = Input(shape=(28,28,1))\n",
    "\n",
    "        # 1. Conv layer\n",
    "        x = Conv2D(filters = hp.Int(\"initial_filters\", min_value = 32, max_value = 128, step = 32),\n",
    "                   kernel_size = 3, padding = \"same\", activation = \"relu\")(inputs)\n",
    "        x = BatchNormalization()(x)\n",
    "        \n",
    "        # Residual Blok ekleyelim\n",
    "        for i in range(hp.Int(\"num_blocks\", min_value = 1, max_value = 3, step = 1)):\n",
    "            x = residual_block(x, hp.Int(\"res_filters_\" + str(i), min_value = 32, max_value = 128, step =32))\n",
    "        \n",
    "        # Sınıflandirma katmanı\n",
    "        x = Flatten()(x)\n",
    "        x = Dense(128, activation = \"relu\")(x)\n",
    "        outputs = Dense(10, activation = \"softmax\")(x)\n",
    "        \n",
    "        model = Model(inputs, outputs)\n",
    "        \n",
    "        # Compile Model\n",
    "        model.compile(optimizer = Adam(hp.Float(\"learning_rate\", min_value = 1e-4, max_value = 1e-2, sampling = \"LOG\")),\n",
    "                      loss = \"categorical_crossentropy\",\n",
    "                      metrics = [\"accuracy\"])\n",
    "        return model  \n",
    "    \n"
   ]
  },
  {
   "cell_type": "code",
   "execution_count": 8,
   "id": "067202b7-b381-4228-b92e-7d3297015341",
   "metadata": {},
   "outputs": [],
   "source": [
    "tuner = RandomSearch(\n",
    "    ResNetModel(),\n",
    "    objective = \"val_accuracy\", # tuning referans degeri\n",
    "    max_trials = 2, # toplam deneme sayisi\n",
    "    executions_per_trial = 1, # her denemede kac kere egitim yapilacagi\n",
    "    directory = \"resnet_hyperparameter_tuning_directory\",\n",
    "    project_name = \"resnet_model_tuning\"\n",
    "    )"
   ]
  },
  {
   "cell_type": "code",
   "execution_count": 9,
   "id": "2bdca861-16f6-4b98-833e-dcef2f91c7a3",
   "metadata": {},
   "outputs": [
    {
     "name": "stdout",
     "output_type": "stream",
     "text": [
      "Trial 2 Complete [00h 07m 14s]\n",
      "val_accuracy: 0.8188999891281128\n",
      "\n",
      "Best val_accuracy So Far: 0.8427000045776367\n",
      "Total elapsed time: 00h 09m 51s\n"
     ]
    }
   ],
   "source": [
    "# Hiperparametre optimizasyonu and training\n",
    "tuner.search(train_images, train_labels, epochs = 1, validation_data = (test_images, test_labels))"
   ]
  },
  {
   "cell_type": "markdown",
   "id": "faae04c9-a104-4e02-9579-bb27e2d53139",
   "metadata": {},
   "source": [
    "### 6)Modelin Test Edilmesi"
   ]
  },
  {
   "cell_type": "code",
   "execution_count": 10,
   "id": "39d8bf27-0820-47bb-bcd2-5aad83a5605b",
   "metadata": {},
   "outputs": [
    {
     "name": "stderr",
     "output_type": "stream",
     "text": [
      "C:\\Users\\emirh\\anaconda3\\Lib\\site-packages\\keras\\src\\saving\\saving_lib.py:802: UserWarning: Skipping variable loading for optimizer 'adam', because it has 2 variables whereas the saved optimizer has 58 variables. \n",
      "  saveable.load_own_variables(weights_store.get(inner_path))\n"
     ]
    },
    {
     "name": "stdout",
     "output_type": "stream",
     "text": [
      "\u001b[1m313/313\u001b[0m \u001b[32m━━━━━━━━━━━━━━━━━━━━\u001b[0m\u001b[37m\u001b[0m \u001b[1m4s\u001b[0m 12ms/step - accuracy: 0.8443 - loss: 0.4495\n",
      "Test loss: 0.4570, test accuracy: 0.8427\n"
     ]
    }
   ],
   "source": [
    "#En iyi Modelin Alınması\n",
    "best_model = tuner.get_best_models(num_models=1)[0]\n",
    "\n",
    "# Test Seti ile en iyi modeli test edelim\n",
    "test_loss, test_acc = best_model.evaluate(test_images, test_labels)\n",
    "print(f\"Test loss: {test_loss:.4f}, test accuracy: {test_acc:.4f}\")"
   ]
  },
  {
   "cell_type": "code",
   "execution_count": null,
   "id": "27c940f1-3b4f-4258-9067-a0264c84ab7c",
   "metadata": {},
   "outputs": [],
   "source": []
  }
 ],
 "metadata": {
  "kernelspec": {
   "display_name": "Python 3 (ipykernel)",
   "language": "python",
   "name": "python3"
  },
  "language_info": {
   "codemirror_mode": {
    "name": "ipython",
    "version": 3
   },
   "file_extension": ".py",
   "mimetype": "text/x-python",
   "name": "python",
   "nbconvert_exporter": "python",
   "pygments_lexer": "ipython3",
   "version": "3.12.7"
  }
 },
 "nbformat": 4,
 "nbformat_minor": 5
}
