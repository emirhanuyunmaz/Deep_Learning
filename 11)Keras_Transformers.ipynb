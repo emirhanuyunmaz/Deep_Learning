{
 "cells": [
  {
   "cell_type": "markdown",
   "id": "a0f68a4c-a240-403f-9351-85708df97f58",
   "metadata": {},
   "source": [
    "# Transformers"
   ]
  },
  {
   "cell_type": "code",
   "execution_count": 1,
   "id": "d49e5420-d60a-46e1-b3f0-ef3044c380a8",
   "metadata": {},
   "outputs": [],
   "source": [
    "import numpy as np\n",
    "import matplotlib.pyplot as plt\n",
    "\n",
    "import tensorflow as tf\n",
    "from tensorflow.keras import layers , models\n",
    "from tensorflow.keras.datasets import imdb\n",
    "from tensorflow.keras.preprocessing.sequence import pad_sequences"
   ]
  },
  {
   "cell_type": "markdown",
   "id": "fae84c5d-6af8-45d5-9ad6-e35a0bbaea22",
   "metadata": {},
   "source": [
    "### 1)Veri Setini Yükleme"
   ]
  },
  {
   "cell_type": "code",
   "execution_count": 2,
   "id": "85339d1b-3cfd-4ebc-b40e-3ad4c8197963",
   "metadata": {},
   "outputs": [],
   "source": [
    "# En çok kullanılan 10000 kelimeyi kullan\n",
    "max_feature = 10000\n",
    "# Her yorumun max uzunluğu\n",
    "max_len = 100\n",
    "\n",
    "#IMDB\n",
    "(x_train , y_train) , (x_test , y_test) = imdb.load_data(num_words = max_feature)"
   ]
  },
  {
   "cell_type": "markdown",
   "id": "4d3a424e-7e3b-430c-bd4f-a27fc1e808d9",
   "metadata": {},
   "source": [
    "Yorumların uzunlukları max 100 olacak şekilde ayarlanacak  "
   ]
  },
  {
   "cell_type": "code",
   "execution_count": 3,
   "id": "c2737351-4d55-4925-8373-1a5d263314f7",
   "metadata": {},
   "outputs": [],
   "source": [
    "x_train = pad_sequences(x_train , maxlen = max_len)\n",
    "x_test = pad_sequences(x_test , maxlen = max_len)"
   ]
  },
  {
   "cell_type": "markdown",
   "id": "a347631f-d963-4ec4-8c11-5f9a3f748b35",
   "metadata": {},
   "source": [
    "IMDB kelime indekslerini al"
   ]
  },
  {
   "cell_type": "code",
   "execution_count": 4,
   "id": "5b0147a9-6ad8-42cb-8dac-3c616268836c",
   "metadata": {},
   "outputs": [],
   "source": [
    "word_index = imdb.get_word_index()"
   ]
  },
  {
   "cell_type": "markdown",
   "id": "e5db2cf2-8480-4f1a-a341-7badc8719416",
   "metadata": {},
   "source": [
    "Kelimelerin dizinini geri döndürmek için ters çevirelim"
   ]
  },
  {
   "cell_type": "code",
   "execution_count": 5,
   "id": "d099ffcd-40a1-4e29-a5b5-701e26eadb23",
   "metadata": {},
   "outputs": [],
   "source": [
    "reverse_word_index = { index + 3 : word for word , index in word_index.items() }\n",
    "reverse_word_index[0] = \"<POD>\"\n",
    "reverse_word_index[1] = \"<START>\"\n",
    "reverse_word_index[2] = \"<UNK>\"\n",
    "reverse_word_index[3] = \"<UNUSED>\""
   ]
  },
  {
   "cell_type": "markdown",
   "id": "a7d93407-a009-47ed-88f8-e7e419cd1009",
   "metadata": {},
   "source": [
    "### 2)Örnek Metinlerin Yazılması"
   ]
  },
  {
   "cell_type": "code",
   "execution_count": 6,
   "id": "3d9647e3-fce0-4a1c-a5f3-2ce0b59e9ac5",
   "metadata": {},
   "outputs": [],
   "source": [
    "# Her sayıyı kelimeye çevirme işlemi\n",
    "def decode_review(encoded_review):\n",
    "    return \" \".join([reverse_word_index.get(i,\"?\") for i in encoded_review])"
   ]
  },
  {
   "cell_type": "markdown",
   "id": "a7ad115e-c0b8-4aa2-8cb9-4edfb9ebbb7c",
   "metadata": {},
   "source": [
    "Rastgele 3 örnek yazdıralım"
   ]
  },
  {
   "cell_type": "code",
   "execution_count": 7,
   "id": "e610bc3d-b41b-4a10-bdb0-2dc81952761b",
   "metadata": {},
   "outputs": [
    {
     "name": "stdout",
     "output_type": "stream",
     "text": [
      "Yorum : main inspiration even his sexy girlfriend gets mad because now he does not pays the adequate attention to her br br well this is an indie movie with an edge but not for everyone it may seem boring or pretentious for some people but still i think it <UNK> a watch only because it offers something different than hollywood's typical standards br br to describe in a few words this is the typical christina <UNK> and john waters movie that's it br br oh and i almost forgot to mention that the full of grace lines are really annoying <UNK>\n",
      "Etiket : 1\n",
      "\n",
      "Yorum : how people get to this point a week after seeing this film i still think about it br br those of you who have not seen zero day please keep in mind the following the film is an independent with little to no budget and the film is shot on <UNK> the material in the film is disturbing this is not mainstream hollywood and there is no happy ending br br but if you can put all that aside zero day is a film that will stick with you and just maybe help you to open your eyes a little\n",
      "Etiket : 1\n",
      "\n",
      "Yorum : emily rose come out movies like these make movies like scarecrow seem childish if you want a movie to just pass the time pick this one the special effects are cheesy as heck but seeing that it was a low budget movie i can kind of see where that would come in this will kind of remind you of the movie children of the corn independent movies rock most of the time so if you want to see a scarecrow killing people with <UNK> or in the sequel 2 scarecrows going at it then these movies would be for you\n",
      "Etiket : 0\n",
      "\n"
     ]
    }
   ],
   "source": [
    "random_indicies = np.random.choice(len(x_train),size = 3 , replace = False)\n",
    "for i in random_indicies:\n",
    "    print(f\"Yorum : {decode_review(x_train[i])}\")\n",
    "    print(f\"Etiket : {y_train[i]}\")\n",
    "    print()"
   ]
  },
  {
   "cell_type": "markdown",
   "id": "fc5fff80-4e3d-4dc7-83fe-1e4894ef40a7",
   "metadata": {},
   "source": [
    "### 3)Transformer Katmanı"
   ]
  },
  {
   "cell_type": "code",
   "execution_count": 8,
   "id": "831a1b0b-f43b-4bc5-bff7-54ad42d76570",
   "metadata": {},
   "outputs": [],
   "source": [
    "class TransformerBlock(layers.Layer):\n",
    "    def __init__(self , embed_size , heads , dropout_rate = 0.1):\n",
    "        super(TransformerBlock , self).__init__()\n",
    "\n",
    "        self.attention = layers.MultiHeadAttention(num_heads = heads , key_dim = embed_size)\n",
    "        self.norm1 = layers.LayerNormalization(epsilon = 1e-6 )\n",
    "        self.norm2 = layers.LayerNormalization(epsilon = 1e-6 )\n",
    "\n",
    "        self.feed_forward = models.Sequential([\n",
    "            layers.Dense(embed_size * 4 , activation = \"relu\"),\n",
    "            layers.Dense(embed_size)\n",
    "        ])\n",
    "\n",
    "        self.dropout1 = layers.Dropout(dropout_rate)\n",
    "        self.dropout2 = layers.Dropout(dropout_rate)\n",
    "\n",
    "    def call(self,x,training =False):\n",
    "        # Attention mekanizmasını uygulayalım\n",
    "        attention = self.attention(x,x)\n",
    "        x = self.norm1(x + self.dropout1(attention,training = training))\n",
    "        feed_forward = self.feed_forward(x)\n",
    "        return self.norm2(x + self.dropout2(feed_forward , training = training))"
   ]
  },
  {
   "cell_type": "markdown",
   "id": "1acd64f2-7c0b-4422-87b0-fcc2449193d5",
   "metadata": {},
   "source": [
    "### 4)Transformer Modeli"
   ]
  },
  {
   "cell_type": "code",
   "execution_count": 9,
   "id": "3667c3f2-0776-4699-8fe1-46be610657b0",
   "metadata": {},
   "outputs": [],
   "source": [
    "class TransformerModel(models.Model):\n",
    "    \n",
    "    def __init__(self , num_layers , embed_size , heads , input_dim , output_dim , dorpout_rate = 0.1):\n",
    "        super(TransformerModel,self).__init__()\n",
    "        self.embedding = layers.Embedding(input_dim = input_dim , output_dim = embed_size )\n",
    "        self.transformer_blocks = [TransformerBlock(embed_size, heads,dropout_rate) for _ in range(num_layers)]\n",
    "        self.global_avg_pooling = layers.GlobalAveragePooling1D()\n",
    "        self.dropout = layers.Dropout(dropout_rate)\n",
    "        self.fc = layers.Dense(output_dim , activation = \"sigmoid\")\n",
    "\n",
    "    def call(self, x, training =False):\n",
    "        x = self.embedding(x)\n",
    "        for transformer in self.transformer_blocks:\n",
    "            x = transformer(x, training = training)\n",
    "        x = self.global_avg_pooling(x)\n",
    "        x = self.dropout(x, training = training)\n",
    "        \n",
    "        return self.fc(x) "
   ]
  },
  {
   "cell_type": "markdown",
   "id": "c98f5605-244f-4717-aa45-3e136a06ab92",
   "metadata": {},
   "source": [
    "### 5)Model Eğitimi"
   ]
  },
  {
   "cell_type": "code",
   "execution_count": 10,
   "id": "35a52d4d-47ae-4957-922b-52f9ba1b22a1",
   "metadata": {},
   "outputs": [
    {
     "data": {
      "text/html": [
       "<pre style=\"white-space:pre;overflow-x:auto;line-height:normal;font-family:Menlo,'DejaVu Sans Mono',consolas,'Courier New',monospace\"><span style=\"font-weight: bold\">Model: \"transformer_model\"</span>\n",
       "</pre>\n"
      ],
      "text/plain": [
       "\u001b[1mModel: \"transformer_model\"\u001b[0m\n"
      ]
     },
     "metadata": {},
     "output_type": "display_data"
    },
    {
     "data": {
      "text/html": [
       "<pre style=\"white-space:pre;overflow-x:auto;line-height:normal;font-family:Menlo,'DejaVu Sans Mono',consolas,'Courier New',monospace\">┏━━━━━━━━━━━━━━━━━━━━━━━━━━━━━━━━━━━━━━┳━━━━━━━━━━━━━━━━━━━━━━━━━━━━━┳━━━━━━━━━━━━━━━━━┓\n",
       "┃<span style=\"font-weight: bold\"> Layer (type)                         </span>┃<span style=\"font-weight: bold\"> Output Shape                </span>┃<span style=\"font-weight: bold\">         Param # </span>┃\n",
       "┡━━━━━━━━━━━━━━━━━━━━━━━━━━━━━━━━━━━━━━╇━━━━━━━━━━━━━━━━━━━━━━━━━━━━━╇━━━━━━━━━━━━━━━━━┩\n",
       "│ embedding (<span style=\"color: #0087ff; text-decoration-color: #0087ff\">Embedding</span>)                │ (<span style=\"color: #00af00; text-decoration-color: #00af00\">1</span>, <span style=\"color: #00af00; text-decoration-color: #00af00\">100</span>, <span style=\"color: #00af00; text-decoration-color: #00af00\">64</span>)                │         <span style=\"color: #00af00; text-decoration-color: #00af00\">640,000</span> │\n",
       "├──────────────────────────────────────┼─────────────────────────────┼─────────────────┤\n",
       "│ transformer_block (<span style=\"color: #0087ff; text-decoration-color: #0087ff\">TransformerBlock</span>) │ ?                           │          <span style=\"color: #00af00; text-decoration-color: #00af00\">99,712</span> │\n",
       "├──────────────────────────────────────┼─────────────────────────────┼─────────────────┤\n",
       "│ transformer_block_1                  │ ?                           │          <span style=\"color: #00af00; text-decoration-color: #00af00\">99,712</span> │\n",
       "│ (<span style=\"color: #0087ff; text-decoration-color: #0087ff\">TransformerBlock</span>)                   │                             │                 │\n",
       "├──────────────────────────────────────┼─────────────────────────────┼─────────────────┤\n",
       "│ transformer_block_2                  │ ?                           │          <span style=\"color: #00af00; text-decoration-color: #00af00\">99,712</span> │\n",
       "│ (<span style=\"color: #0087ff; text-decoration-color: #0087ff\">TransformerBlock</span>)                   │                             │                 │\n",
       "├──────────────────────────────────────┼─────────────────────────────┼─────────────────┤\n",
       "│ transformer_block_3                  │ ?                           │          <span style=\"color: #00af00; text-decoration-color: #00af00\">99,712</span> │\n",
       "│ (<span style=\"color: #0087ff; text-decoration-color: #0087ff\">TransformerBlock</span>)                   │                             │                 │\n",
       "├──────────────────────────────────────┼─────────────────────────────┼─────────────────┤\n",
       "│ global_average_pooling1d             │ ?                           │               <span style=\"color: #00af00; text-decoration-color: #00af00\">0</span> │\n",
       "│ (<span style=\"color: #0087ff; text-decoration-color: #0087ff\">GlobalAveragePooling1D</span>)             │                             │                 │\n",
       "├──────────────────────────────────────┼─────────────────────────────┼─────────────────┤\n",
       "│ dropout_8 (<span style=\"color: #0087ff; text-decoration-color: #0087ff\">Dropout</span>)                  │ ?                           │               <span style=\"color: #00af00; text-decoration-color: #00af00\">0</span> │\n",
       "├──────────────────────────────────────┼─────────────────────────────┼─────────────────┤\n",
       "│ dense_8 (<span style=\"color: #0087ff; text-decoration-color: #0087ff\">Dense</span>)                      │ (<span style=\"color: #00af00; text-decoration-color: #00af00\">1</span>, <span style=\"color: #00af00; text-decoration-color: #00af00\">1</span>)                      │              <span style=\"color: #00af00; text-decoration-color: #00af00\">65</span> │\n",
       "└──────────────────────────────────────┴─────────────────────────────┴─────────────────┘\n",
       "</pre>\n"
      ],
      "text/plain": [
       "┏━━━━━━━━━━━━━━━━━━━━━━━━━━━━━━━━━━━━━━┳━━━━━━━━━━━━━━━━━━━━━━━━━━━━━┳━━━━━━━━━━━━━━━━━┓\n",
       "┃\u001b[1m \u001b[0m\u001b[1mLayer (type)                        \u001b[0m\u001b[1m \u001b[0m┃\u001b[1m \u001b[0m\u001b[1mOutput Shape               \u001b[0m\u001b[1m \u001b[0m┃\u001b[1m \u001b[0m\u001b[1m        Param #\u001b[0m\u001b[1m \u001b[0m┃\n",
       "┡━━━━━━━━━━━━━━━━━━━━━━━━━━━━━━━━━━━━━━╇━━━━━━━━━━━━━━━━━━━━━━━━━━━━━╇━━━━━━━━━━━━━━━━━┩\n",
       "│ embedding (\u001b[38;5;33mEmbedding\u001b[0m)                │ (\u001b[38;5;34m1\u001b[0m, \u001b[38;5;34m100\u001b[0m, \u001b[38;5;34m64\u001b[0m)                │         \u001b[38;5;34m640,000\u001b[0m │\n",
       "├──────────────────────────────────────┼─────────────────────────────┼─────────────────┤\n",
       "│ transformer_block (\u001b[38;5;33mTransformerBlock\u001b[0m) │ ?                           │          \u001b[38;5;34m99,712\u001b[0m │\n",
       "├──────────────────────────────────────┼─────────────────────────────┼─────────────────┤\n",
       "│ transformer_block_1                  │ ?                           │          \u001b[38;5;34m99,712\u001b[0m │\n",
       "│ (\u001b[38;5;33mTransformerBlock\u001b[0m)                   │                             │                 │\n",
       "├──────────────────────────────────────┼─────────────────────────────┼─────────────────┤\n",
       "│ transformer_block_2                  │ ?                           │          \u001b[38;5;34m99,712\u001b[0m │\n",
       "│ (\u001b[38;5;33mTransformerBlock\u001b[0m)                   │                             │                 │\n",
       "├──────────────────────────────────────┼─────────────────────────────┼─────────────────┤\n",
       "│ transformer_block_3                  │ ?                           │          \u001b[38;5;34m99,712\u001b[0m │\n",
       "│ (\u001b[38;5;33mTransformerBlock\u001b[0m)                   │                             │                 │\n",
       "├──────────────────────────────────────┼─────────────────────────────┼─────────────────┤\n",
       "│ global_average_pooling1d             │ ?                           │               \u001b[38;5;34m0\u001b[0m │\n",
       "│ (\u001b[38;5;33mGlobalAveragePooling1D\u001b[0m)             │                             │                 │\n",
       "├──────────────────────────────────────┼─────────────────────────────┼─────────────────┤\n",
       "│ dropout_8 (\u001b[38;5;33mDropout\u001b[0m)                  │ ?                           │               \u001b[38;5;34m0\u001b[0m │\n",
       "├──────────────────────────────────────┼─────────────────────────────┼─────────────────┤\n",
       "│ dense_8 (\u001b[38;5;33mDense\u001b[0m)                      │ (\u001b[38;5;34m1\u001b[0m, \u001b[38;5;34m1\u001b[0m)                      │              \u001b[38;5;34m65\u001b[0m │\n",
       "└──────────────────────────────────────┴─────────────────────────────┴─────────────────┘\n"
      ]
     },
     "metadata": {},
     "output_type": "display_data"
    },
    {
     "data": {
      "text/html": [
       "<pre style=\"white-space:pre;overflow-x:auto;line-height:normal;font-family:Menlo,'DejaVu Sans Mono',consolas,'Courier New',monospace\"><span style=\"font-weight: bold\"> Total params: </span><span style=\"color: #00af00; text-decoration-color: #00af00\">1,038,913</span> (3.96 MB)\n",
       "</pre>\n"
      ],
      "text/plain": [
       "\u001b[1m Total params: \u001b[0m\u001b[38;5;34m1,038,913\u001b[0m (3.96 MB)\n"
      ]
     },
     "metadata": {},
     "output_type": "display_data"
    },
    {
     "data": {
      "text/html": [
       "<pre style=\"white-space:pre;overflow-x:auto;line-height:normal;font-family:Menlo,'DejaVu Sans Mono',consolas,'Courier New',monospace\"><span style=\"font-weight: bold\"> Trainable params: </span><span style=\"color: #00af00; text-decoration-color: #00af00\">1,038,913</span> (3.96 MB)\n",
       "</pre>\n"
      ],
      "text/plain": [
       "\u001b[1m Trainable params: \u001b[0m\u001b[38;5;34m1,038,913\u001b[0m (3.96 MB)\n"
      ]
     },
     "metadata": {},
     "output_type": "display_data"
    },
    {
     "data": {
      "text/html": [
       "<pre style=\"white-space:pre;overflow-x:auto;line-height:normal;font-family:Menlo,'DejaVu Sans Mono',consolas,'Courier New',monospace\"><span style=\"font-weight: bold\"> Non-trainable params: </span><span style=\"color: #00af00; text-decoration-color: #00af00\">0</span> (0.00 B)\n",
       "</pre>\n"
      ],
      "text/plain": [
       "\u001b[1m Non-trainable params: \u001b[0m\u001b[38;5;34m0\u001b[0m (0.00 B)\n"
      ]
     },
     "metadata": {},
     "output_type": "display_data"
    }
   ],
   "source": [
    "# Hyperparametre Tanımı\n",
    "# Kullanılacak Transformer katmanı\n",
    "num_layers = 4\n",
    "embed_size = 64 \n",
    "# Multi-Head Sayısı\n",
    "num_heads = 4\n",
    "input_dim = max_feature\n",
    "#İkili Sınıflandırma\n",
    "output_dim = 1\n",
    "dropout_rate = 0.1\n",
    "\n",
    "# Modeli Oluştruma \n",
    "model = TransformerModel(num_layers , embed_size , num_heads , input_dim , output_dim , dropout_rate)\n",
    "\n",
    "#Dummy veri ile derlenmesi sağlanır\n",
    "dummy_input = tf.random.uniform((1, max_len), minval=0, maxval=max_feature, dtype=tf.int32)\n",
    "model(dummy_input)\n",
    "\n",
    "# Modeli bir giriş verisi ile çağırarak inşaa etme\n",
    "# model.build(input_shape=(None,max_len,input_dim))\n",
    "\n",
    "# Compile\n",
    "model.compile(optimizer = \"adam\" , loss = \"binary_crossentropy\" , metrics = [\"accuracy\"])\n",
    "model.summary()"
   ]
  },
  {
   "cell_type": "markdown",
   "id": "d67e3116-db10-4cd4-ac3b-8d6d94f322dd",
   "metadata": {},
   "source": [
    "Modelin Eğitimi"
   ]
  },
  {
   "cell_type": "code",
   "execution_count": 11,
   "id": "7a05f0a9-6fa3-44fe-8cb0-c3c0ba6308b9",
   "metadata": {},
   "outputs": [
    {
     "name": "stdout",
     "output_type": "stream",
     "text": [
      "Epoch 1/5\n",
      "\u001b[1m98/98\u001b[0m \u001b[32m━━━━━━━━━━━━━━━━━━━━\u001b[0m\u001b[37m\u001b[0m \u001b[1m109s\u001b[0m 1s/step - accuracy: 0.6071 - loss: 0.6844 - val_accuracy: 0.8190 - val_loss: 0.4032\n",
      "Epoch 2/5\n",
      "\u001b[1m98/98\u001b[0m \u001b[32m━━━━━━━━━━━━━━━━━━━━\u001b[0m\u001b[37m\u001b[0m \u001b[1m101s\u001b[0m 1s/step - accuracy: 0.8801 - loss: 0.2917 - val_accuracy: 0.8478 - val_loss: 0.3509\n",
      "Epoch 3/5\n",
      "\u001b[1m98/98\u001b[0m \u001b[32m━━━━━━━━━━━━━━━━━━━━\u001b[0m\u001b[37m\u001b[0m \u001b[1m121s\u001b[0m 1s/step - accuracy: 0.9220 - loss: 0.2099 - val_accuracy: 0.8413 - val_loss: 0.3846\n",
      "Epoch 4/5\n",
      "\u001b[1m98/98\u001b[0m \u001b[32m━━━━━━━━━━━━━━━━━━━━\u001b[0m\u001b[37m\u001b[0m \u001b[1m135s\u001b[0m 1s/step - accuracy: 0.9414 - loss: 0.1606 - val_accuracy: 0.8287 - val_loss: 0.4652\n",
      "Epoch 5/5\n",
      "\u001b[1m98/98\u001b[0m \u001b[32m━━━━━━━━━━━━━━━━━━━━\u001b[0m\u001b[37m\u001b[0m \u001b[1m135s\u001b[0m 1s/step - accuracy: 0.9539 - loss: 0.1302 - val_accuracy: 0.8229 - val_loss: 0.4681\n"
     ]
    }
   ],
   "source": [
    "history = model.fit(x_train,y_train,epochs = 5 , batch_size = 256 , validation_data=(x_test,y_test))"
   ]
  },
  {
   "cell_type": "markdown",
   "id": "ef55d9d7-0155-44a5-b6f3-90bd1c9ce6f4",
   "metadata": {},
   "source": [
    "### 6)Modelin Test Edilmesi"
   ]
  },
  {
   "cell_type": "code",
   "execution_count": 12,
   "id": "85a3c03f-490f-405b-8cbd-9ae691f54d62",
   "metadata": {},
   "outputs": [
    {
     "data": {
      "image/png": "[encoded data removed]",
      "text/plain": [
       "<Figure size 640x480 with 2 Axes>"
      ]
     },
     "metadata": {},
     "output_type": "display_data"
    }
   ],
   "source": [
    "plt.figure()\n",
    "plt.subplot(1,2,1)\n",
    "plt.plot(history.history[\"loss\"], label = \"Training Loss\")\n",
    "plt.plot(history.history[\"val_loss\"], label = \"Validation Loss\")\n",
    "plt.title(\"Training and Validaiton Loss\")\n",
    "plt.xlabel(\"Epochs\")\n",
    "plt.ylabel(\"Loss\")\n",
    "plt.grid(True)\n",
    "plt.legend()\n",
    "\n",
    "plt.subplot(1,2,2)\n",
    "plt.plot(history.history[\"accuracy\"], label = \"Training Accuracy\")\n",
    "plt.plot(history.history[\"val_accuracy\"], label = \"Validation Accuracy\")\n",
    "plt.title(\"Training and Validaiton Accuracy\")\n",
    "plt.xlabel(\"Epochs\")\n",
    "plt.ylabel(\"Accuracy\")\n",
    "plt.grid(True)\n",
    "plt.legend()\n",
    "\n",
    "plt.tight_layout()\n",
    "plt.show()"
   ]
  },
  {
   "cell_type": "code",
   "execution_count": null,
   "id": "18235959-0e60-4cea-90fe-e655a94af6bc",
   "metadata": {},
   "outputs": [],
   "source": []
  }
 ],
 "metadata": {
  "kernelspec": {
   "display_name": "Python 3 (ipykernel)",
   "language": "python",
   "name": "python3"
  },
  "language_info": {
   "codemirror_mode": {
    "name": "ipython",
    "version": 3
   },
   "file_extension": ".py",
   "mimetype": "text/x-python",
   "name": "python",
   "nbconvert_exporter": "python",
   "pygments_lexer": "ipython3",
   "version": "3.12.7"
  }
 },
 "nbformat": 4,
 "nbformat_minor": 5
}
