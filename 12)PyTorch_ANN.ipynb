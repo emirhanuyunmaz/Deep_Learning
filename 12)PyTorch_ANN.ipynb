{
 "cells": [
  {
   "cell_type": "markdown",
   "id": "a8cb8c83-0dee-4739-8220-ef64e9baadcc",
   "metadata": {},
   "source": [
    "# Yapay Sinir Ağları (Artificial Neural Networks)"
   ]
  },
  {
   "cell_type": "code",
   "execution_count": 1,
   "id": "e48990b5-ef89-4a9c-9a11-8a3d33307771",
   "metadata": {},
   "outputs": [],
   "source": [
    "import torch # PyTorch kütüphanesi , tensor işlemleri\n",
    "import torch.nn as nn # Yapay sinir ağı katmanlarını tanımlamak için kullanılır\n",
    "import torch.optim as optim # Optimizasyon algoritmalarını içeren modül\n",
    "import torchvision # Görüntü işleme ve pre-defined modelleri içerir\n",
    "import torchvision.transforms as transforms # Görüntü dönüşümlerini yapmak\n",
    "import matplotlib.pyplot as plt # Görselleştirme"
   ]
  },
  {
   "cell_type": "markdown",
   "id": "fdf84883-0721-4f86-aaf5-9f593f7f33cc",
   "metadata": {},
   "source": [
    "Optional : Cihaz belirleme "
   ]
  },
  {
   "cell_type": "code",
   "execution_count": 2,
   "id": "24b86672-c145-4a19-89cd-1df8c5632919",
   "metadata": {},
   "outputs": [
    {
     "data": {
      "text/plain": [
       "device(type='cpu')"
      ]
     },
     "execution_count": 2,
     "metadata": {},
     "output_type": "execute_result"
    }
   ],
   "source": [
    "device = torch.device(\"cuda\" if torch.cuda.is_available() else \"cpu\")\n",
    "device"
   ]
  },
  {
   "cell_type": "markdown",
   "id": "8e480e9e-8016-439f-931d-1584f68f57f9",
   "metadata": {},
   "source": [
    "**Problem Tanımı:** MNIST veri seti ile rakam sınıflandırma projesi"
   ]
  },
  {
   "cell_type": "markdown",
   "id": "8b72443e-8408-4480-98dc-a7835f8a2ffc",
   "metadata": {},
   "source": [
    "### 1)Veri Setinin Yüklenmesi"
   ]
  },
  {
   "cell_type": "code",
   "execution_count": 3,
   "id": "86a2a389-d45a-4c0c-aead-4d8537d7afa0",
   "metadata": {},
   "outputs": [],
   "source": [
    "# batch_size : Her iterasyonda işlenecek veri miktarı .\n",
    "def get_data_loaders(batch_size = 64):\n",
    "    \n",
    "    transform = transforms.Compose([\n",
    "        transforms.ToTensor() , # Görüntüyü tensore çevirir ve 0-255 -> 0-1 olçeklenir\n",
    "        transforms.Normalize((0.5,),(0.5,)) # Piksel değerlerini -1 ile +1 arasinda olacak şekilde ölçekler \n",
    "    ])\n",
    "\n",
    "    train_set = torchvision.datasets.MNIST(root = \"./mnist_data\" , train = True , download = True , transform = transform )\n",
    "    test_set = torchvision.datasets.MNIST(root = \"./mnist_data\" , train = False , download = True , transform = transform )\n",
    "\n",
    "    # PyTorch veri yükleyicisi oluşturma \n",
    "    train_loader = torch.utils.data.DataLoader(train_set , batch_size = batch_size , shuffle = True )\n",
    "    test_loader = torch.utils.data.DataLoader(test_set , batch_size = batch_size , shuffle = False )\n",
    "    \n",
    "    return train_loader , test_loader"
   ]
  },
  {
   "cell_type": "code",
   "execution_count": 4,
   "id": "2d9a5b98-bf76-4e5a-8cdc-1b0d2eca2582",
   "metadata": {},
   "outputs": [],
   "source": [
    "train_loader , test_loader = get_data_loaders()"
   ]
  },
  {
   "cell_type": "markdown",
   "id": "937cf717-d4b2-4069-8b2d-be9edc43a492",
   "metadata": {},
   "source": [
    "### 2)Veri Görselleştirme"
   ]
  },
  {
   "cell_type": "code",
   "execution_count": 5,
   "id": "d833992d-a876-4802-89ee-8d42d167809e",
   "metadata": {},
   "outputs": [],
   "source": [
    "def visualize_samples(loader , n):\n",
    "    images , labels = next(iter(loader)) # İlk batch den görüntü ve etiketleri alalım\n",
    "    fig , axes = plt.subplots(1 , n , figsize = (10,5)) # n farklı görüntü için görselleştirme alanı\n",
    "    for i in range(n):\n",
    "        axes[i].imshow(images[i].squeeze() , cmap = \"gray\") # Görseli gri tonlarda göster\n",
    "        axes[i].set_title(f\"Label : {labels[i].item()}\") # Görüntüye ait etiketi başlık olarak yaz\n",
    "        axes[i].axis(\"off\") # Eksenleri gizle\n",
    "    plt.show()"
   ]
  },
  {
   "cell_type": "code",
   "execution_count": 6,
   "id": "5ad70ccb-977c-40c1-8717-970b62c7ea24",
   "metadata": {},
   "outputs": [],
   "source": [
    "# visualize_samples(train_loader , 4)"
   ]
  },
  {
   "cell_type": "markdown",
   "id": "e30e1690-e72d-484b-8a4a-75375a299178",
   "metadata": {},
   "source": [
    "### 3)Modelin Oluşturulması"
   ]
  },
  {
   "cell_type": "code",
   "execution_count": 7,
   "id": "7cf3865e-39f4-496b-a0b0-13b036d72a40",
   "metadata": {},
   "outputs": [],
   "source": [
    "# Yapay sinir ağı Sınıfı\n",
    "class NeuralNetwork(nn.Module): # PyTorch'un nn.Module sınıfından miras alıyor\n",
    "    \n",
    "    # NN inşaa etmek için gerekli olan bileşenleri tanımla  \n",
    "    def __init__(self):\n",
    "        super(NeuralNetwork , self).__init__()\n",
    "        # Elimizde bulunan görüntüleri vektör haline çevirelim.(2D => 1D)\n",
    "        self.flatten = nn.Flatten()\n",
    "        \n",
    "        # İlk tam bağlı katmanı oluşturma\n",
    "        self.fc1 = nn.Linear(28*28 , 128)\n",
    "        \n",
    "        # Aktivasyon fonk. oluştur \n",
    "        self.relu = nn.ReLU() \n",
    "        \n",
    "        # İkinci tam bağlı katmanı oluştur \n",
    "        self.fc2 = nn.Linear(128 , 64)\n",
    "        \n",
    "        # Çıktı katmanını oluştur : 64 => input size , 10 => output size (0-9 etiketleri)\n",
    "        self.fc3 = nn.Linear(64 , 10)\n",
    "\n",
    "    # Forward Propagation : İleri yayılım , giriş olarak x = görüntü alsın\n",
    "    def forward(self , x):\n",
    "        x = self.flatten(x) # initial x = 28*28 lik bir görüntü -> düzleştir 784 vektör haline getir\n",
    "        x = self.fc1(x) # Birinci bağlı katman\n",
    "        x = self.relu(x) # Aktivasyon fonk.\n",
    "        x = self.fc2(x) # İkinci bağlı katman\n",
    "        x = self.relu(x) # Aktivasyon fonk.\n",
    "        x = self.fc3(x) # Output katmanı\n",
    "\n",
    "        # Modelin çıktısı\n",
    "        return x"
   ]
  },
  {
   "cell_type": "markdown",
   "id": "a75c851e-cd19-475a-881d-968f2cf6e847",
   "metadata": {},
   "source": [
    "**Create and Compile**"
   ]
  },
  {
   "cell_type": "code",
   "execution_count": 8,
   "id": "8fec77ed-5628-40b8-a053-92f8f063541e",
   "metadata": {},
   "outputs": [],
   "source": [
    "model = NeuralNetwork().to(device)\n",
    "\n",
    "# Kayıp fonk. ve optimizasyon algoritması belirleme\n",
    "define_loss_and_optimizer = lambda mode : (\n",
    "    nn.CrossEntropyLoss() , # Multi Class Classification problems loss func.\n",
    "    optim.Adam(model.parameters() , lr = 0.001) # Update weights with adam\n",
    ")\n",
    "criterion , optimizer = define_loss_and_optimizer(model)"
   ]
  },
  {
   "cell_type": "markdown",
   "id": "4f017dec-e781-40ff-865e-83d6be0e7803",
   "metadata": {},
   "source": [
    "**Modelin Eğitimi**"
   ]
  },
  {
   "cell_type": "code",
   "execution_count": 9,
   "id": "0a9a2a53-c797-4327-bce1-2b80ae192e96",
   "metadata": {},
   "outputs": [],
   "source": [
    "# criterion : Loss fonk\n",
    "\n",
    "def train_model(model , train_loader , criterion , optimizer , epochs = 10 ):\n",
    "    \n",
    "    # Modeli eğitim moduna alalım\n",
    "    model.train()\n",
    "    \n",
    "    # Her bir epoch sonucunda elde edilen loss değerlerini saklamak için bir liste\n",
    "    train_losses = []\n",
    "\n",
    "    # Belirtilen epochs sayısı kadar eğitim yapalım\n",
    "    for epoch in range(epochs):\n",
    "        total_loss = 0\n",
    "        \n",
    "        # Tüm eğitim verileri üzerinde iterasyon gerçekleştir\n",
    "        for images , labels in train_loader:\n",
    "            images , labels = images.to(device) , labels.to(device) # Verileri cihaza taşı\n",
    "            \n",
    "            # Gradyanları sıfırla\n",
    "            optimizer.zero_grad()\n",
    "            \n",
    "            # Modeli Uygula , forward pro. \n",
    "            predictions = model(images)\n",
    "            \n",
    "            # Loss hesaplama -> y_pred , y_real\n",
    "            loss = criterion(predictions,labels)\n",
    "            \n",
    "            # Geri yayılım yani gradyan hesaplama\n",
    "            loss.backward()\n",
    "            \n",
    "            # Update weight (ağırlık güncelle)\n",
    "            optimizer.step()\n",
    "\n",
    "            total_loss = total_loss + loss.item()\n",
    "\n",
    "        avg_loss = total_loss / len(train_loader) # Ortalama kayıp hesaplama\n",
    "        train_losses.append(avg_loss)\n",
    "        print(f\"Epochs : {epoch+1} , Loss : {avg_loss:.3f}\")\n",
    "    # Loss Graph\n",
    "    # plt.figure()\n",
    "    # plt.plot(range( 1 , epochs + 1) ,train_losses , marker = \"o\" , linestyle = \"-\" , label = \"Train Loss\")\n",
    "    # plt.xlabel(\"Epochs\")\n",
    "    # plt.ylabel(\"Loss\")\n",
    "    # plt.title(\"Training Loss\")\n",
    "    # plt.legend()\n",
    "    # plt.show()"
   ]
  },
  {
   "cell_type": "code",
   "execution_count": 10,
   "id": "be9912ac-d5ac-444a-800f-b1c07c995384",
   "metadata": {},
   "outputs": [
    {
     "name": "stdout",
     "output_type": "stream",
     "text": [
      "Epochs : 1 , Loss : 0.406\n",
      "Epochs : 2 , Loss : 0.191\n",
      "Epochs : 3 , Loss : 0.140\n",
      "Epochs : 4 , Loss : 0.114\n",
      "Epochs : 5 , Loss : 0.097\n",
      "Epochs : 6 , Loss : 0.085\n",
      "Epochs : 7 , Loss : 0.075\n",
      "Epochs : 8 , Loss : 0.070\n",
      "Epochs : 9 , Loss : 0.060\n",
      "Epochs : 10 , Loss : 0.055\n"
     ]
    }
   ],
   "source": [
    "train_model(model , train_loader , criterion , optimizer , epochs = 10)"
   ]
  },
  {
   "cell_type": "markdown",
   "id": "ef7dd82a-1550-48e9-bb9a-49984e06cc4a",
   "metadata": {},
   "source": [
    "### 4)Modelin Test Edilmesi"
   ]
  },
  {
   "cell_type": "code",
   "execution_count": 13,
   "id": "a482fac0-2e23-4379-a94a-ebe676b46671",
   "metadata": {},
   "outputs": [],
   "source": [
    "def test_model(model , test_loader):\n",
    "    model.eval() # Modeli değerlendirme moduna al  \n",
    "    correct = 0 # Doğru tahmin sayacı\n",
    "    total = 0 # Toplam veri sayacı\n",
    "\n",
    "    with torch.no_grad(): # Gradyan hesaplama gereksiz olduğundan kapattık\n",
    "        for images , labels in test_loader: # Test veri kümesini dögüye al\n",
    "            images , labels = images.to(device) , labels.to(device) # Verileri cihaza taşı\n",
    "            predictions = model(images) \n",
    "            _ , predicted = torch.max(predictions , 1) # En yüksel olasılıklı sınıfın etiketini bul\n",
    "            total += labels.size(0) # Toplam veri sayısını güncelle\n",
    "            correct += (predicted == labels).sum().item() # Doğru tahmin say\n",
    "    print(f\"Test Accuracy : {100 * correct / total:.3f}%\")"
   ]
  },
  {
   "cell_type": "code",
   "execution_count": 14,
   "id": "b1d30c4e-6a2c-464c-9d79-0ad161283276",
   "metadata": {},
   "outputs": [
    {
     "name": "stdout",
     "output_type": "stream",
     "text": [
      "Test Accuracy : 97.270%\n"
     ]
    }
   ],
   "source": [
    "test_model(model , test_loader)"
   ]
  },
  {
   "cell_type": "code",
   "execution_count": null,
   "id": "74357aff-86af-4595-84a3-8f55cc165985",
   "metadata": {},
   "outputs": [],
   "source": []
  }
 ],
 "metadata": {
  "kernelspec": {
   "display_name": "Python 3 (ipykernel)",
   "language": "python",
   "name": "python3"
  },
  "language_info": {
   "codemirror_mode": {
    "name": "ipython",
    "version": 3
   },
   "file_extension": ".py",
   "mimetype": "text/x-python",
   "name": "python",
   "nbconvert_exporter": "python",
   "pygments_lexer": "ipython3",
   "version": "3.12.7"
  }
 },
 "nbformat": 4,
 "nbformat_minor": 5
}
