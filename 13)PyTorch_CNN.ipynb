{
 "cells": [
  {
   "cell_type": "markdown",
   "id": "32042948-7c5c-4961-8d95-21bf8b5fabb4",
   "metadata": {},
   "source": [
    "# Evrişimsel Sinir Ağları (Convolutional Neural Networks) "
   ]
  },
  {
   "cell_type": "code",
   "execution_count": 1,
   "id": "8bd683b8-c74a-4196-99d0-dd9bd8384784",
   "metadata": {},
   "outputs": [],
   "source": [
    "import torch # Pytorch\n",
    "import torch.nn as nn # Sinir ağı katmanı için \n",
    "import torch.optim as optim # Optimizasyon algoritması için\n",
    "import torchvision # Görüntü işleme için\n",
    "import torchvision.transforms as transforms \n",
    "import matplotlib.pyplot as plt\n",
    "import numpy as np"
   ]
  },
  {
   "cell_type": "code",
   "execution_count": 8,
   "id": "f80b8422-a066-499a-9e33-ca5455a0b506",
   "metadata": {},
   "outputs": [
    {
     "data": {
      "text/plain": [
       "device(type='cpu')"
      ]
     },
     "execution_count": 8,
     "metadata": {},
     "output_type": "execute_result"
    }
   ],
   "source": [
    "device = torch.device(\"cuda\" if torch.cuda.is_available() else \"cpu\")\n",
    "device"
   ]
  },
  {
   "cell_type": "markdown",
   "id": "9505dac9-57ed-4446-be8f-fb632e29a35d",
   "metadata": {},
   "source": [
    "**Problem Tanımı:** CIFAR10 veriseti sınıflandırma problemi"
   ]
  },
  {
   "cell_type": "markdown",
   "id": "a153d8f6-3d51-475d-b784-3141a02622cf",
   "metadata": {},
   "source": [
    "### 1)Veri Setinin Yüklenmesi"
   ]
  },
  {
   "cell_type": "code",
   "execution_count": 2,
   "id": "a025fc5f-5097-4c9d-95a4-3ed15561967b",
   "metadata": {},
   "outputs": [],
   "source": [
    "# batch_size : Her iterasyonda işlenecek veri sayısını verir\n",
    "def get_data_loader(batch_size = 64):\n",
    "    transform = transforms.Compose([\n",
    "        transforms.ToTensor(), # Görüntüyü tensora çevir\n",
    "        transforms.Normalize(((0.5,0.5,0.5) ) , (0.5,0.5,0.5)) # Renkli görüntü olduğu için 3 tane oldu\n",
    "    ])\n",
    "\n",
    "    # CIFAR10 veri setini indir ve eğitim test veri setini oluşturma\n",
    "    train_set = torchvision.datasets.CIFAR10(root = \"./cifar10_data\" , train = True , download = True , transform = transform)\n",
    "    test_set = torchvision.datasets.CIFAR10(root = \"./cifar10_data\" , train = False , download = True , transform = transform)\n",
    "\n",
    "    # Data Loader\n",
    "    train_loader = torch.utils.data.DataLoader(train_set , batch_size = batch_size , shuffle = True)\n",
    "    test_loader = torch.utils.data.DataLoader(test_set , batch_size = batch_size , shuffle = False)\n",
    "\n",
    "    return train_loader , test_loader"
   ]
  },
  {
   "cell_type": "code",
   "execution_count": 3,
   "id": "4b38d9cf-4234-47f7-8980-dc6c7c07bf51",
   "metadata": {},
   "outputs": [],
   "source": [
    "train_loader , test_loader = get_data_loader()"
   ]
  },
  {
   "cell_type": "markdown",
   "id": "c1c7076d-cb35-45cf-b271-5323531cc7ae",
   "metadata": {},
   "source": [
    "### 2)Veri Setinin Görselleştirilmesi"
   ]
  },
  {
   "cell_type": "code",
   "execution_count": 4,
   "id": "512318f2-00e2-4e32-801a-efee46d9cd61",
   "metadata": {},
   "outputs": [],
   "source": [
    "# Görselleştirme\n",
    "def imshow(img):\n",
    "    # Veriler normalize etmeden önce geri dönüştürme\n",
    "    img = img / 2 + 0.5 # Normalize işleminin tersi\n",
    "    np_img = img.numpy() # Tensor'dan np array'e döndürme \n",
    "    plt.imshow(np.transpose(np_img , (1 , 2 , 0))) # Üç kanal için renkleri doğru şekilde gösterme\n",
    "\n",
    "# Veri kümesinden örnek görselleri almak için fonk.\n",
    "def get_sample_images(train_loader):\n",
    "\n",
    "    data_iter = iter(train_loader)\n",
    "    images , labels = next(data_iter)\n",
    "    return images , labels\n",
    "\n",
    "def visualize(n):\n",
    "    images , labels = get_sample_images(train_loader)\n",
    "    plt.figure()\n",
    "\n",
    "    for i in range(n):\n",
    "        plt.subplot(1 , n , i + 1 )\n",
    "        imshow(images[i])\n",
    "        plt.title(f\"Label :{labels[i].item()}\")\n",
    "        plt.axis(\"off\")\n",
    "    plt.show()"
   ]
  },
  {
   "cell_type": "code",
   "execution_count": 5,
   "id": "502b26f5-0602-474e-b673-69bf4996551c",
   "metadata": {},
   "outputs": [],
   "source": [
    "# visualize(3)"
   ]
  },
  {
   "cell_type": "markdown",
   "id": "7928cba6-9f8a-4076-bf75-d43d1becccf2",
   "metadata": {},
   "source": [
    "### 3)Modelin İnşaası"
   ]
  },
  {
   "cell_type": "code",
   "execution_count": 10,
   "id": "45795eac-c62f-4bb5-bfc2-6ac03de0b3e2",
   "metadata": {},
   "outputs": [],
   "source": [
    "class CNN(nn.Module):\n",
    "\n",
    "    def __init__(self):\n",
    "        super(CNN,self).__init__()\n",
    "        self.conv1 = nn.Conv2d(3 , 32 , kernel_size = 3 , padding = 1)\n",
    "        \n",
    "        self.relu = nn.ReLU() # Aktivasyon fonk.\n",
    "\n",
    "        self.pool = nn.MaxPool2d(kernel_size = 2 , stride = 2 ) # 2x2 boyutunda pool katmanı\n",
    "\n",
    "        self.conv2 = nn.Conv2d(32 , 64 , kernel_size = 3 , padding = 1) # 64 filtreli ikinci conv katmanı\n",
    "\n",
    "        self.dropout = nn.Dropout(0.2) # Dropout % 20 oranında çalışır\n",
    "\n",
    "        self.fc1 = nn.Linear(64 * 8 * 8 , 128 ) # Fully connected layer giriş : 4096 , output : 128\n",
    "\n",
    "        self.fc2 = nn.Linear(128 , 10) # Output katmanı\n",
    "    \n",
    "    def forward(self , x):\n",
    "        # image 3*32*32 => conv (32) -> relu (32) -> pool (16)\n",
    "        # conv (16) -> relu (16) -> pool (8) -> image 8x8\n",
    "        # flatten \n",
    "        # fc1 -> relu -> dropout\n",
    "        # fc2 -> output\n",
    "\n",
    "        x = self.pool(self.relu(self.conv1(x))) # İlk convolution blok\n",
    "        x = self.pool(self.relu(self.conv2(x))) # İkinci convolution blok\n",
    "        x = x.view(-1 , 64 * 8 * 8) # Flatten Katmanı\n",
    "        x = self.dropout(self.relu(self.fc1(x))) # Fully connected katman\n",
    "        x = self.fc2(x) # Output\n",
    "        \n",
    "        return x"
   ]
  },
  {
   "cell_type": "code",
   "execution_count": 11,
   "id": "8c27cf81-b6dd-45e8-9435-b987762a322f",
   "metadata": {},
   "outputs": [],
   "source": [
    "model = CNN().to(device)"
   ]
  },
  {
   "cell_type": "code",
   "execution_count": 12,
   "id": "a1cb838a-c583-494e-8bbc-9ff36936ca91",
   "metadata": {},
   "outputs": [],
   "source": [
    "define_loss_and_optimizer = lambda model :(\n",
    "    nn.CrossEntropyLoss(), # Multi class classification problem\n",
    "    optim.SGD(model.parameters() , lr = 0.001 , momentum = 0.9) # Stochastic Gradient Descent\n",
    ")"
   ]
  },
  {
   "cell_type": "markdown",
   "id": "902f39c9-f952-4921-b1fc-76e3ac7f1849",
   "metadata": {},
   "source": [
    "### 4)Modelin Eğitimi"
   ]
  },
  {
   "cell_type": "code",
   "execution_count": 13,
   "id": "2dbd0154-6c91-4148-8c7f-fe0b3fc49ed0",
   "metadata": {},
   "outputs": [],
   "source": [
    "def train_model (model , train_loader , criterion , optimizer , epochs = 5 ):\n",
    "    model.train() # Modeli eğitim moduna alalım\n",
    "    train_losses = []\n",
    "\n",
    "    for epoch in range(epochs):\n",
    "        total_loss = 0 # Toplam Loss değerini saklamak için tutalan değer\n",
    "\n",
    "        for images , labels in train_loader :\n",
    "            images , labels = images.to(device) , labels.to(device)\n",
    "\n",
    "            optimizer.zero_grad() # Gradyanları sıfılama\n",
    "            outputs = model(images) # Forward pro. (prediction) output = etiket , label , class \n",
    "            loss = criterion(outputs , labels) #Loss değerini hesapla\n",
    "            loss.backward() # Geri yayılım (gradyan hesaplama)\n",
    "            optimizer.step() # Öğrenme parametre yani ağırlık güncelleme\n",
    "\n",
    "            total_loss += loss.item()\n",
    "        avg_loss = total_loss / len(train_loader)\n",
    "        train_losses.append(avg_loss)\n",
    "        print(f\"Epoch : {epoch + 1 } / {epochs} , Loss :{avg_loss:.5f}\")\n",
    "    # Kayıp (Loss) Grafiği\n",
    "    # plt.figure()\n",
    "    # plt.plot(range(1,epochs+1) , train_losses , marker = \"o\" , linestyle = \"-\" , label = \"Train Loss\" )\n",
    "    # plt.xlabel(\"Epochs\")\n",
    "    # plt.ylabel(\"Loss\")\n",
    "    # plt.title(\"Training Loss\")\n",
    "    # plt.legend()\n",
    "    # plt.show()"
   ]
  },
  {
   "cell_type": "code",
   "execution_count": 14,
   "id": "f3e5076d-6c7d-4f0d-8f9d-072abce83b2c",
   "metadata": {},
   "outputs": [
    {
     "name": "stdout",
     "output_type": "stream",
     "text": [
      "Epoch : 1 / 10 , Loss :2.06700\n",
      "Epoch : 2 / 10 , Loss :1.73385\n",
      "Epoch : 3 / 10 , Loss :1.54858\n",
      "Epoch : 4 / 10 , Loss :1.42344\n",
      "Epoch : 5 / 10 , Loss :1.34803\n",
      "Epoch : 6 / 10 , Loss :1.28346\n",
      "Epoch : 7 / 10 , Loss :1.22839\n",
      "Epoch : 8 / 10 , Loss :1.17823\n",
      "Epoch : 9 / 10 , Loss :1.13203\n",
      "Epoch : 10 / 10 , Loss :1.09397\n"
     ]
    }
   ],
   "source": [
    "criterion , optimizer = define_loss_and_optimizer(model)\n",
    "train_model(model , train_loader , criterion , optimizer , 10)"
   ]
  },
  {
   "cell_type": "markdown",
   "id": "64be4b12-cbaa-4af9-b549-59ba13d4a712",
   "metadata": {},
   "source": [
    "### 5)Modelin Test Edilmesi"
   ]
  },
  {
   "cell_type": "code",
   "execution_count": 15,
   "id": "76f2d2b4-e041-4e55-ba97-5a0a183f64fd",
   "metadata": {},
   "outputs": [],
   "source": [
    "def test_model(model,test_loader):\n",
    "    model.eval() # Değerlendirme modu\n",
    "    correct = 0 # Doğru tahmin sayacı\n",
    "    total = 0 # Toplam Veri sayacı\n",
    "\n",
    "    with torch.no_grad(): # Gradyan hesaplamasını kapat\n",
    "\n",
    "        for images , labels in test_loader:\n",
    "            images , labels = images.to(device) , labels.to(device) # Verileri cihaza taşıma\n",
    "\n",
    "            outputs = model(images) # Prediction\n",
    "            _ , predicted = torch.max(outputs , 1) # En yüksek olasılıklı sınıfı seçme\n",
    "            total += labels.size(0) # Toplam veri sayısı\n",
    "            correct += (predicted == labels).sum().item() # Doğru tahmin sayısı\n",
    "        print(f\"Test Accuracy :{100 * correct / total} %\") # Doğruluk değerinin ekrana yazdırılması"
   ]
  },
  {
   "cell_type": "code",
   "execution_count": 16,
   "id": "8a6e96f6-bd42-47a8-b2d0-e450630be9d2",
   "metadata": {},
   "outputs": [
    {
     "name": "stdout",
     "output_type": "stream",
     "text": [
      "Test Accuracy :62.29 %\n"
     ]
    }
   ],
   "source": [
    "test_model(model , test_loader )"
   ]
  },
  {
   "cell_type": "code",
   "execution_count": null,
   "id": "b10b4e87-34c2-4b7f-a704-c8a3591c227f",
   "metadata": {},
   "outputs": [],
   "source": []
  }
 ],
 "metadata": {
  "kernelspec": {
   "display_name": "Python 3 (ipykernel)",
   "language": "python",
   "name": "python3"
  },
  "language_info": {
   "codemirror_mode": {
    "name": "ipython",
    "version": 3
   },
   "file_extension": ".py",
   "mimetype": "text/x-python",
   "name": "python",
   "nbconvert_exporter": "python",
   "pygments_lexer": "ipython3",
   "version": "3.12.7"
  }
 },
 "nbformat": 4,
 "nbformat_minor": 5
}
