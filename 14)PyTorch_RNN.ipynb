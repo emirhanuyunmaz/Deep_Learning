{
 "cells": [
  {
   "cell_type": "markdown",
   "id": "b4a6e54c-cc0e-4c50-90fb-b03b19f4637e",
   "metadata": {},
   "source": [
    "# Yinelemeli Sinir Ağları (Recurrent Neural Networks)(RNN)"
   ]
  },
  {
   "cell_type": "code",
   "execution_count": 1,
   "id": "95a731d2-33a6-43a1-9af5-009cc8a3fa75",
   "metadata": {},
   "outputs": [],
   "source": [
    "import numpy as np\n",
    "import matplotlib.pyplot as plt\n",
    "\n",
    "import torch\n",
    "import torch.nn as nn"
   ]
  },
  {
   "cell_type": "markdown",
   "id": "b9e27e05-861a-44bf-8744-89ebf49b122d",
   "metadata": {},
   "source": [
    "**RNN:** Tekrarlayan sinir ağları . Zaman Serilerini kullanır "
   ]
  },
  {
   "cell_type": "markdown",
   "id": "f77a7403-2089-458a-89e0-763f28853195",
   "metadata": {},
   "source": [
    "### 1)Veri Setinin Oluşturulması"
   ]
  },
  {
   "cell_type": "code",
   "execution_count": 2,
   "id": "def38e34-afb0-4b5a-bcab-9c4b9df8c0f2",
   "metadata": {},
   "outputs": [],
   "source": [
    "def generate_data(seq_length = 50 , num_samples = 1000 ):\n",
    "    x = np.linspace(0,100,num_samples)\n",
    "    y = np.sin(x)\n",
    "    sequence = [] # Giriş dizilerini saklamak için\n",
    "    targets = [] # Hedef değerlerini saklamak için\n",
    "\n",
    "    for i in range(len(x) - seq_length):\n",
    "        sequence.append(y[i:i+seq_length]) # İnput\n",
    "        targets.append(y[i+seq_length])\n",
    "\n",
    "    return np.array(sequence) , np.array(targets)"
   ]
  },
  {
   "cell_type": "code",
   "execution_count": 3,
   "id": "0fd7916a-f88b-4f57-9a66-ea3f5aa03df3",
   "metadata": {},
   "outputs": [],
   "source": [
    "sequence , targets = generate_data()"
   ]
  },
  {
   "cell_type": "code",
   "execution_count": 4,
   "id": "9bcbb32a-f830-47a3-8039-8f24aec12479",
   "metadata": {},
   "outputs": [
    {
     "data": {
      "text/plain": [
       "array([[ 0.        ,  0.09993302,  0.19886554,  0.29580708,  0.3897871 ,\n",
       "         0.47986471,  0.56513807,  0.64475345,  0.71791378,  0.7838866 ,\n",
       "         0.84201141,  0.89170627,  0.93247368,  0.96390547,  0.98568695,\n",
       "         0.99760007,  0.99952556,  0.99144412,  0.97343668,  0.94568351,\n",
       "         0.90846248,  0.86214622,  0.80719845,  0.74416927,  0.67368972,\n",
       "         0.59646541,  0.51326949,  0.42493488,  0.33234597,  0.23642973,\n",
       "         0.13814643,  0.03848005, -0.06157158, -0.16100677, -0.25883002,\n",
       "        -0.35406195, -0.44574912, -0.53297361, -0.61486214, -0.69059488,\n",
       "        -0.75941361, -0.82062935, -0.87362922, -0.91788261, -0.95294646,\n",
       "        -0.97846973, -0.99419689, -0.99997048, -0.9957327 , -0.98152597],\n",
       "       [ 0.09993302,  0.19886554,  0.29580708,  0.3897871 ,  0.47986471,\n",
       "         0.56513807,  0.64475345,  0.71791378,  0.7838866 ,  0.84201141,\n",
       "         0.89170627,  0.93247368,  0.96390547,  0.98568695,  0.99760007,\n",
       "         0.99952556,  0.99144412,  0.97343668,  0.94568351,  0.90846248,\n",
       "         0.86214622,  0.80719845,  0.74416927,  0.67368972,  0.59646541,\n",
       "         0.51326949,  0.42493488,  0.33234597,  0.23642973,  0.13814643,\n",
       "         0.03848005, -0.06157158, -0.16100677, -0.25883002, -0.35406195,\n",
       "        -0.44574912, -0.53297361, -0.61486214, -0.69059488, -0.75941361,\n",
       "        -0.82062935, -0.87362922, -0.91788261, -0.95294646, -0.97846973,\n",
       "        -0.99419689, -0.99997048, -0.9957327 , -0.98152597, -0.95749254],\n",
       "       [ 0.19886554,  0.29580708,  0.3897871 ,  0.47986471,  0.56513807,\n",
       "         0.64475345,  0.71791378,  0.7838866 ,  0.84201141,  0.89170627,\n",
       "         0.93247368,  0.96390547,  0.98568695,  0.99760007,  0.99952556,\n",
       "         0.99144412,  0.97343668,  0.94568351,  0.90846248,  0.86214622,\n",
       "         0.80719845,  0.74416927,  0.67368972,  0.59646541,  0.51326949,\n",
       "         0.42493488,  0.33234597,  0.23642973,  0.13814643,  0.03848005,\n",
       "        -0.06157158, -0.16100677, -0.25883002, -0.35406195, -0.44574912,\n",
       "        -0.53297361, -0.61486214, -0.69059488, -0.75941361, -0.82062935,\n",
       "        -0.87362922, -0.91788261, -0.95294646, -0.97846973, -0.99419689,\n",
       "        -0.99997048, -0.9957327 , -0.98152597, -0.95749254, -0.92387301]])"
      ]
     },
     "execution_count": 4,
     "metadata": {},
     "output_type": "execute_result"
    }
   ],
   "source": [
    "sequence[0:3]"
   ]
  },
  {
   "cell_type": "markdown",
   "id": "b442d9c6-3854-47b5-a2de-26dbe4340a5b",
   "metadata": {},
   "source": [
    "### 2)Modelin Oluşturulması"
   ]
  },
  {
   "cell_type": "code",
   "execution_count": 5,
   "id": "111e5657-c15d-405d-8aee-7b99eb5c2d1e",
   "metadata": {},
   "outputs": [],
   "source": [
    "class RNN(nn.Module):\n",
    "    def __init__(self,input_size , hidden_size , output_size , num_layers = 1):\n",
    "        \"\"\"\n",
    "            RNN -> Linear (Output)\n",
    "        \"\"\"\n",
    "        super(RNN,self).__init__()\n",
    "        # Input Size : Giriş Boyutu\n",
    "        # Hidden Size : RNN Gizli Katman (CELL) sayısı\n",
    "        # Num Layers : RNN Layer sayısı\n",
    "        self.rnn = nn.RNN(input_size , hidden_size , num_layers , batch_first = True) # RNN - Layer\n",
    "        # Output Size : Çıktı boyutu \n",
    "        self.fc = nn.Linear(hidden_size , output_size) # Fully connected layer : output\n",
    "    \n",
    "    def forward(self , x):\n",
    "        out , _ = self.rnn(x) # RNN'e girdiyi ver çıktıyı al\n",
    "        out = self.fc(out[:,-1,:]) # Son zaman adımındaki çıktıyı al ve fc layer'a bağla\n",
    "        return out"
   ]
  },
  {
   "cell_type": "markdown",
   "id": "91519c57-de84-4455-b56f-9367efaf5387",
   "metadata": {},
   "source": [
    "### 3)Modelin Eğitimi"
   ]
  },
  {
   "cell_type": "code",
   "execution_count": 6,
   "id": "cb26ddbc-401f-4d80-8d64-de59e3b7ab2f",
   "metadata": {},
   "outputs": [],
   "source": [
    "seq_length = 50 # İnput dizisinin boyutu\n",
    "input_size = 1 # İnput dizisinin boyutu\n",
    "hidden_size = 16 # RNN'in gizli katmandaki düğüm sayısı\n",
    "output_size = 1 # Output boyutu ya da tahmin edilen değer\n",
    "num_layers = 1 # RNN katman sayısı\n",
    "epochs = 20 # Modelin kaç kez tüm veri üzerinde eğitileceği\n",
    "batch_size = 32 # Her bir eğitim adımında kaç örneğin kullanılacağı\n",
    "learning_rate = 0.001 # Optimizasyon algoritması için öğrenme oranı hızı\n",
    "\n",
    "x , y = generate_data(seq_length)\n",
    "x = torch.tensor(x , dtype = torch.float32).unsqueeze(-1) # PyTorch tensore çevir ve boyut ekle\n",
    "y = torch.tensor(y , dtype = torch.float32).unsqueeze(-1) # PyTorch tensore çevir ve boyut ekle\n",
    "\n",
    "dataset = torch.utils.data.TensorDataset(x,y) # PyTorch dataset oluşturma\n",
    "data_loader = torch.utils.data.DataLoader(dataset , batch_size = batch_size , shuffle = True ) # Veri yükleyici oluştur"
   ]
  },
  {
   "cell_type": "markdown",
   "id": "0e90a1e6-475c-45b3-b07a-af93e66d098f",
   "metadata": {},
   "source": [
    "**Modelin Tanımlanması**"
   ]
  },
  {
   "cell_type": "code",
   "execution_count": 7,
   "id": "c465b75e-c568-4451-b829-30825fe0ab9e",
   "metadata": {},
   "outputs": [
    {
     "name": "stdout",
     "output_type": "stream",
     "text": [
      "Epoch : 1 / 20 , Loss :0.2557\n",
      "Epoch : 2 / 20 , Loss :0.0789\n",
      "Epoch : 3 / 20 , Loss :0.0423\n",
      "Epoch : 4 / 20 , Loss :0.0243\n",
      "Epoch : 5 / 20 , Loss :0.0150\n",
      "Epoch : 6 / 20 , Loss :0.0100\n",
      "Epoch : 7 / 20 , Loss :0.0075\n",
      "Epoch : 8 / 20 , Loss :0.0035\n",
      "Epoch : 9 / 20 , Loss :0.0022\n",
      "Epoch : 10 / 20 , Loss :0.0017\n",
      "Epoch : 11 / 20 , Loss :0.0010\n",
      "Epoch : 12 / 20 , Loss :0.0013\n",
      "Epoch : 13 / 20 , Loss :0.0010\n",
      "Epoch : 14 / 20 , Loss :0.0009\n",
      "Epoch : 15 / 20 , Loss :0.0009\n",
      "Epoch : 16 / 20 , Loss :0.0006\n",
      "Epoch : 17 / 20 , Loss :0.0005\n",
      "Epoch : 18 / 20 , Loss :0.0007\n",
      "Epoch : 19 / 20 , Loss :0.0004\n",
      "Epoch : 20 / 20 , Loss :0.0004\n"
     ]
    }
   ],
   "source": [
    "model = RNN(input_size , hidden_size , output_size , num_layers)\n",
    "criterion = nn.MSELoss() # Min square error - ortalama kare hata\n",
    "optimizer = torch.optim.Adam(model.parameters() , lr = learning_rate) # Optimization = adaptive\n",
    "\n",
    "for epoch in range(epochs):\n",
    "    for batch_x , batch_y in data_loader:\n",
    "        optimizer.zero_grad() # Gradyanları sıfırla\n",
    "        pred_y = model(batch_x) # Modelin tahmini al\n",
    "        loss = criterion(pred_y,batch_y) # Modelin tahmini ile gerçek olanı karşılaştır ve loss hesapla\n",
    "        loss.backward() # Geri yayılım ile gradyanları hesapla\n",
    "        optimizer.step() # Ağırlıkları güncelle\n",
    "    print(f\"Epoch : {epoch + 1} / {epochs} , Loss :{loss.item():.4f}\")"
   ]
  },
  {
   "cell_type": "markdown",
   "id": "d1543725-b99b-4f0c-b084-1250a9119655",
   "metadata": {},
   "source": [
    "### 4)Modelin Test Edilmesi"
   ]
  },
  {
   "cell_type": "markdown",
   "id": "e1074a45-3ddd-46ba-a5a8-0eaa2c572687",
   "metadata": {},
   "source": [
    "**Test için veri oluştur**"
   ]
  },
  {
   "cell_type": "code",
   "execution_count": 8,
   "id": "974d0374-161e-44b2-a7c9-b4603f1fa5c2",
   "metadata": {},
   "outputs": [],
   "source": [
    "x_test = np.linspace(100,110,seq_length).reshape(1,-1) # İlk test verisi\n",
    "y_test = np.sin(x_test) # Test verisinin gerçek değeri \n",
    "\n",
    "x_test2 = np.linspace(120,130,seq_length).reshape(1,-1) # İkinci test verisi\n",
    "y_test2 = np.sin(x_test2) # İkinci test verisi gerçek değerleri\n",
    "\n",
    "# From numpy to tensor\n",
    "x_test = torch.tensor(y_test, dtype = torch.float32 ).unsqueeze(-1)\n",
    "x_test2 = torch.tensor(y_test2, dtype = torch.float32 ).unsqueeze(-1)"
   ]
  },
  {
   "cell_type": "markdown",
   "id": "1fef59d7-b970-4207-9d60-317ce62fa4ae",
   "metadata": {},
   "source": [
    "**Modeli Kullanarak Predict İşlemi**"
   ]
  },
  {
   "cell_type": "code",
   "execution_count": 9,
   "id": "00de7c89-9128-4194-b064-4756c8df857f",
   "metadata": {},
   "outputs": [],
   "source": [
    "model.eval()\n",
    "prediction1 = model(x_test).detach().numpy()\n",
    "prediction2 = model(x_test2).detach().numpy()"
   ]
  },
  {
   "cell_type": "markdown",
   "id": "638aca15-64ac-4f70-a634-9939e63fd55e",
   "metadata": {},
   "source": [
    "**Sonuçları Görselleştirme**"
   ]
  },
  {
   "cell_type": "code",
   "execution_count": null,
   "id": "a1994231-654f-4a9c-8b82-4fb11a62be55",
   "metadata": {},
   "outputs": [],
   "source": [
    "plt.figure()\n",
    "plt.plot(np.linspace(0,100,len(y)),y,marker = \"o\", label = \"Training Dataset\")\n",
    "\n",
    "plt.plot(x_test.numpy().flatten(), marker = \"o\" , label = \"Test 1\")\n",
    "plt.plot(x_test2.numpy().flatten(), marker = \"o\" , label = \"Test 2\")\n",
    "\n",
    "plt.plot(np.arange(seq_length, seq_length + 1) , prediction1.flatten() , \"ro\" , label = \"Prediction 1\")\n",
    "plt.plot(np.arange(seq_length, seq_length + 1) , prediction2.flatten() , \"ro\" , label = \"Prediction 2\")\n",
    "\n",
    "plt.legend()\n",
    "plt.show()"
   ]
  },
  {
   "cell_type": "code",
   "execution_count": null,
   "id": "03c0bf29-346a-41b7-a4c3-bd84d12496d2",
   "metadata": {},
   "outputs": [],
   "source": []
  }
 ],
 "metadata": {
  "kernelspec": {
   "display_name": "Python 3 (ipykernel)",
   "language": "python",
   "name": "python3"
  },
  "language_info": {
   "codemirror_mode": {
    "name": "ipython",
    "version": 3
   },
   "file_extension": ".py",
   "mimetype": "text/x-python",
   "name": "python",
   "nbconvert_exporter": "python",
   "pygments_lexer": "ipython3",
   "version": "3.12.7"
  }
 },
 "nbformat": 4,
 "nbformat_minor": 5
}
