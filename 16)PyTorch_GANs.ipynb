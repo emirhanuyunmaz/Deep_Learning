{
 "cells": [
  {
   "cell_type": "markdown",
   "id": "c44f0fda-0e57-4be6-a8f1-efd24aa251ee",
   "metadata": {},
   "source": [
    "# Çekişmeli Üretici Ağlar (Generative Adversarial Networks) (GANs)"
   ]
  },
  {
   "cell_type": "code",
   "execution_count": 1,
   "id": "cfc71cf3-f4bd-4929-a16a-de8afabb162b",
   "metadata": {},
   "outputs": [],
   "source": [
    "import torch\n",
    "import torch.nn as nn\n",
    "import torch.optim as optim\n",
    "import torchvision.transforms as transforms\n",
    "import torchvision.datasets as datasets\n",
    "import torchvision.utils as utils\n",
    "from torch.utils.data import DataLoader\n",
    "\n",
    "import matplotlib.pyplot as plt\n",
    "import numpy as np"
   ]
  },
  {
   "cell_type": "code",
   "execution_count": 9,
   "id": "816d4b42-76f5-4726-937d-a1aed929e315",
   "metadata": {},
   "outputs": [
    {
     "data": {
      "text/plain": [
       "device(type='cpu')"
      ]
     },
     "execution_count": 9,
     "metadata": {},
     "output_type": "execute_result"
    }
   ],
   "source": [
    "device = torch.device(\"cuda\" if torch.cuda.is_available() else \"cpu\" )\n",
    "device"
   ]
  },
  {
   "cell_type": "markdown",
   "id": "89a790ed-b8d2-4439-8412-4fb176bf6db9",
   "metadata": {},
   "source": [
    "**İmage Generation**:MNIST veri seti \\\n",
    "GAN : Birbirine karşı çalışan iki yapay sinir ağı"
   ]
  },
  {
   "cell_type": "code",
   "execution_count": 4,
   "id": "bdfec9d0-202d-4a99-9d57-9cf7e0ae3c53",
   "metadata": {},
   "outputs": [],
   "source": [
    "batch_size = 12 # Min batch boyutu\n",
    "image_size = 28 * 28 # Görüntü boyutu\n",
    "transform = transforms.Compose([\n",
    "    transforms.ToTensor(), # Görüntüleri Tensore çevir\n",
    "    transforms.Normalize((0.5,),(0.5,)) # normalizasyon -> -1 ile +1 arasında sınırla\n",
    "])"
   ]
  },
  {
   "cell_type": "code",
   "execution_count": 5,
   "id": "94cac3d4-7bba-4c60-8c08-8f4433b4616f",
   "metadata": {},
   "outputs": [],
   "source": [
    "# MNIST DATASET\n",
    "dataset = datasets.MNIST(root = \"./mnist_data\" , train = True , transform=transform , download = False)"
   ]
  },
  {
   "cell_type": "code",
   "execution_count": 6,
   "id": "1c58b66c-d1d3-4f73-9fd9-40e431f65749",
   "metadata": {},
   "outputs": [],
   "source": [
    "data_loader = DataLoader(dataset , batch_size = batch_size , shuffle = True)"
   ]
  },
  {
   "cell_type": "code",
   "execution_count": 8,
   "id": "6e61905a-cc7a-4afd-b102-de46caf4f38b",
   "metadata": {},
   "outputs": [
    {
     "data": {
      "text/plain": [
       "Dataset MNIST\n",
       "    Number of datapoints: 60000\n",
       "    Root location: ./mnist_data\n",
       "    Split: Train\n",
       "    StandardTransform\n",
       "Transform: Compose(\n",
       "               ToTensor()\n",
       "               Normalize(mean=(0.5,), std=(0.5,))\n",
       "           )"
      ]
     },
     "execution_count": 8,
     "metadata": {},
     "output_type": "execute_result"
    }
   ],
   "source": [
    "data_loader.dataset"
   ]
  },
  {
   "cell_type": "markdown",
   "id": "211230a8-f780-409b-bf1b-c4d83a07f835",
   "metadata": {},
   "source": [
    "**Discriminator (Ayırt Edici)** \\\n",
    "Generatorin üretmiş olduğu görüntüleri gerçek mi sahte mi olduğunu anlamaya çalışacak"
   ]
  },
  {
   "cell_type": "code",
   "execution_count": 11,
   "id": "4c70c693-4ff1-4465-9023-2f4ff5651f98",
   "metadata": {},
   "outputs": [],
   "source": [
    "class Discriminator(nn.Module):\n",
    "\n",
    "    def __init__(self):\n",
    "        super(Discriminator , self).__init__()\n",
    "        self.model = nn.Sequential(\n",
    "            nn.Linear(image_size,1024) , # input : image size , 1024 : nöron sayısı yani bu layer in outpu'u\n",
    "            nn.LeakyReLU(0.2), # Aktivasyon fonk. 0.2 ' lik eğim\n",
    "            nn.Linear(1024 , 512), # 1024 ten 512 düğüme\n",
    "            nn.LeakyReLU(0.2),\n",
    "            nn.Linear(512 , 256), # 512 den 256 ya\n",
    "            nn.LeakyReLU(0.2),\n",
    "            nn.Linear(256,1), # Output Layer\n",
    "            nn.Sigmoid() # Çıktıyı 0-1 aralığına getirir\n",
    "        )\n",
    "    def forward(self,img):\n",
    "        return self.model(img.view(-1,image_size)) # Görüntüyü düzleştirerek modele ver ."
   ]
  },
  {
   "cell_type": "markdown",
   "id": "62f2db9b-815a-4f25-9490-e9a4c955b788",
   "metadata": {},
   "source": [
    "**Generator** \\\n",
    "Görüntü Oluşturma"
   ]
  },
  {
   "cell_type": "code",
   "execution_count": 17,
   "id": "02086782-7541-4f89-8c43-7719e37bbffa",
   "metadata": {},
   "outputs": [],
   "source": [
    "class Generator(nn.Module):\n",
    "    \n",
    "    def __init__(self,z_dim):\n",
    "        super(Generator , self).__init__()\n",
    "        self.model = nn.Sequential(\n",
    "            nn.Linear(z_dim , 256), # Girişten 256 düğüme tam bağlı katman\n",
    "            nn.ReLU(),\n",
    "            nn.Linear(256 , 512) ,\n",
    "            nn.ReLU(),\n",
    "            nn.Linear(512 , 1024),\n",
    "            nn.ReLU(),\n",
    "            nn.Linear(1024 , image_size), # 1024 ten (28 x 28) 784'e çevrim\n",
    "            nn.Tanh() # Çıktı aktivasyon fonk.\n",
    "        )\n",
    "\n",
    "    def forward(self,x):\n",
    "        return self.model(x).view(-1 , 1 , 28 , 28) # Çıktıyı 28 x 28 lik görüntüye çevirir "
   ]
  },
  {
   "cell_type": "markdown",
   "id": "fe0a5c7b-59c1-4d64-8ebf-b30d1267be60",
   "metadata": {},
   "source": [
    "**GAN Eğitimi**"
   ]
  },
  {
   "cell_type": "code",
   "execution_count": 18,
   "id": "27716ffa-dabb-4c43-bdbc-87f6dee45c8c",
   "metadata": {},
   "outputs": [
    {
     "name": "stdout",
     "output_type": "stream",
     "text": [
      "Epoch : 1 / 20  -  DLoss : 0.256  -  GLoss : 2.760\n",
      "Epoch : 2 / 20  -  DLoss : 0.405  -  GLoss : 3.622\n",
      "Epoch : 3 / 20  -  DLoss : 0.113  -  GLoss : 3.464\n",
      "Epoch : 4 / 20  -  DLoss : 1.161  -  GLoss : 1.436\n",
      "Epoch : 5 / 20  -  DLoss : 1.073  -  GLoss : 1.589\n",
      "Epoch : 6 / 20  -  DLoss : 1.024  -  GLoss : 1.354\n",
      "Epoch : 7 / 20  -  DLoss : 1.050  -  GLoss : 1.546\n",
      "Epoch : 8 / 20  -  DLoss : 1.194  -  GLoss : 1.547\n",
      "Epoch : 9 / 20  -  DLoss : 1.522  -  GLoss : 1.398\n",
      "Epoch : 10 / 20  -  DLoss : 1.061  -  GLoss : 1.191\n",
      "Epoch : 11 / 20  -  DLoss : 1.215  -  GLoss : 1.209\n",
      "Epoch : 12 / 20  -  DLoss : 1.016  -  GLoss : 1.283\n",
      "Epoch : 13 / 20  -  DLoss : 1.023  -  GLoss : 1.308\n",
      "Epoch : 14 / 20  -  DLoss : 0.792  -  GLoss : 1.279\n",
      "Epoch : 15 / 20  -  DLoss : 0.878  -  GLoss : 1.275\n",
      "Epoch : 16 / 20  -  DLoss : 1.083  -  GLoss : 1.289\n",
      "Epoch : 17 / 20  -  DLoss : 1.150  -  GLoss : 1.237\n",
      "Epoch : 18 / 20  -  DLoss : 0.953  -  GLoss : 1.735\n",
      "Epoch : 19 / 20  -  DLoss : 1.017  -  GLoss : 1.263\n",
      "Epoch : 20 / 20  -  DLoss : 1.092  -  GLoss : 1.179\n"
     ]
    }
   ],
   "source": [
    "# Hyperparameters\n",
    "learning_rate = 0.0002\n",
    "z_dim = 100 # Rastgele gürültü vektör boyutu (noise görüntüsü)\n",
    "epochs = 20 # Eğitim döngü sayısı\n",
    "\n",
    "# Model Başlatma : Generator ve discriminator tanımlama\n",
    "generator = Generator(z_dim).to(device)\n",
    "discriminator = Discriminator().to(device)\n",
    "\n",
    "# Kayıp fonksiyonu ve optimizasyon algoritmalarının tanımlanması\n",
    "criterion = nn.BCELoss() # Binary cross entropy\n",
    "g_optimizer = optim.Adam(generator.parameters() , lr = learning_rate , betas = (0.5 , 0.999)) # Generator Optimizer\n",
    "d_optimizer = optim.Adam(discriminator.parameters() , lr = learning_rate , betas = (0.5,0.999)) # Discriminator Optimizer\n",
    "\n",
    "# Eğitim Döngüsü Başlatma\n",
    "for epoch in range(epochs):\n",
    "    # Görüntülerin yüklenmesi\n",
    "    for i , (real_imgs , _) in enumerate(data_loader):\n",
    "        real_imgs = real_imgs.to(device)\n",
    "        batch_size = real_imgs.size(0) # Mevcut batch boyutunu al\n",
    "        real_labels = torch.ones(batch_size , 1).to(device) # Gerçek görüntüleri 1 olarak etiketle\n",
    "        fake_labels = torch.zeros(batch_size , 1).to(device) # Sahte görüntüleri 0 olarak etiketle\n",
    "\n",
    "        # Discriminator Eğitimi\n",
    "        z = torch.randn(batch_size , z_dim).to(device) # Rastgele gürültü üret\n",
    "        fake_imgs = generator(z) # Generator ile sahte görüntü oluştur\n",
    "        real_loss = criterion(discriminator(real_imgs),real_labels) # Gerçek görüntü kaybı\n",
    "        fake_loss = criterion(discriminator(fake_imgs.detach()) ,fake_labels) # Sahte görüntü kaybı\n",
    "        d_loss = real_loss + fake_loss # Toplam discriminator kaybı\n",
    "    \n",
    "        d_optimizer.zero_grad() # Gradyanları sıfırla\n",
    "        d_loss.backward() # Geriye yayılım\n",
    "        d_optimizer.step() # Parametreleri güncelle\n",
    "    \n",
    "        # Generator Eğitimi\n",
    "        g_loss = criterion(discriminator(fake_imgs) , real_labels) # Generator kaybı\n",
    "        g_optimizer.zero_grad() # Gradyanları sıfırla\n",
    "        g_loss.backward() # Geriye yayılım\n",
    "        g_optimizer.step() # Parametreleri güncelle\n",
    "\n",
    "    print(f\"Epoch : {epoch+1} / {epochs}  -  DLoss : {d_loss.item():.3f}  -  GLoss : {g_loss.item():.3f}\")"
   ]
  },
  {
   "cell_type": "markdown",
   "id": "fab719fa-7439-4f04-8075-36a007868ea1",
   "metadata": {},
   "source": [
    "**Modelin Test Edilmesi**"
   ]
  },
  {
   "cell_type": "code",
   "execution_count": null,
   "id": "47db571c-ec66-4e68-aa1b-65fc71de9482",
   "metadata": {},
   "outputs": [],
   "source": [
    "# Rastgele gürültü ile görüntü oluşturma\n",
    "with torch.no_grad():\n",
    "    z = torch.randn(16,z_dim).to(device) # 16 adet rastgele görüntü oluştur\n",
    "    sample_imgs = generator(z).cpu() # Generator ile sahte görüntü oluşturma\n",
    "    grid = np.transpose(utils.make_grid(sample_imgs , nrow = 4 , normalize = True ) , (1,2,0))\n",
    "    plt.imshow(grid)\n",
    "    plt.show()"
   ]
  },
  {
   "cell_type": "code",
   "execution_count": null,
   "id": "a2496210-51ec-4e6e-bb63-a28319df4f07",
   "metadata": {},
   "outputs": [],
   "source": []
  }
 ],
 "metadata": {
  "kernelspec": {
   "display_name": "Python 3 (ipykernel)",
   "language": "python",
   "name": "python3"
  },
  "language_info": {
   "codemirror_mode": {
    "name": "ipython",
    "version": 3
   },
   "file_extension": ".py",
   "mimetype": "text/x-python",
   "name": "python",
   "nbconvert_exporter": "python",
   "pygments_lexer": "ipython3",
   "version": "3.12.7"
  }
 },
 "nbformat": 4,
 "nbformat_minor": 5
}
