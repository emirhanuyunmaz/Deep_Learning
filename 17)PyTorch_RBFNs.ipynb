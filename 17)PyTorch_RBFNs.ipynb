{
 "cells": [
  {
   "cell_type": "markdown",
   "id": "17ef502c-897c-4394-b018-2fb39a8f78ab",
   "metadata": {},
   "source": [
    "# Radyal Temelli Fonksiyon Ağları (Radial Basis Function Networks) (RBFNs)"
   ]
  },
  {
   "cell_type": "code",
   "execution_count": 1,
   "id": "27bf1693-065b-4a02-a145-0a77a89b2dde",
   "metadata": {},
   "outputs": [],
   "source": [
    "import torch\n",
    "import torch.nn as nn\n",
    "import torch.optim as optim\n",
    "import pandas as pd\n",
    "from sklearn.model_selection import train_test_split\n",
    "from sklearn.preprocessing import StandardScaler"
   ]
  },
  {
   "cell_type": "markdown",
   "id": "a323c7df-e18a-4f72-ac3e-e05dbba3ccc0",
   "metadata": {},
   "source": [
    "**Sınıflandırma Problemi:** İris veri seti 3 farklı sınıfa ait sınıflandırma problemi   "
   ]
  },
  {
   "cell_type": "code",
   "execution_count": 2,
   "id": "e5f90b24-dabf-4288-a1bd-6f891e32f8a9",
   "metadata": {},
   "outputs": [],
   "source": [
    "df = pd.read_csv(\"./iris_data/iris.data\",header = None )\n",
    "\n",
    "x = df.iloc[:,:-1].values # İlk 4 sütunu x değişkenine atar\n",
    "y , _ = pd.factorize(df.iloc[:,-1]) # Verilere ait etiketleri y değişkenine atar "
   ]
  },
  {
   "cell_type": "markdown",
   "id": "616f0ec5-a8ca-4e45-9c49-93684ff8227f",
   "metadata": {},
   "source": [
    "**Veriyi Standardize Etme İşlemi**"
   ]
  },
  {
   "cell_type": "code",
   "execution_count": 3,
   "id": "7584a8d0-3416-4971-b9f5-97c2e1f468a2",
   "metadata": {},
   "outputs": [],
   "source": [
    "scaler = StandardScaler()\n",
    "x = scaler.fit_transform(x)"
   ]
  },
  {
   "cell_type": "markdown",
   "id": "9c213cb5-b212-47f2-be4b-66794f044f3a",
   "metadata": {},
   "source": [
    "**Train Test Split Olarak İkiye Ayırma**"
   ]
  },
  {
   "cell_type": "code",
   "execution_count": 4,
   "id": "03ae2388-9f6b-41a0-92f1-cb812f5ee443",
   "metadata": {},
   "outputs": [],
   "source": [
    "x_train , x_test , y_train , y_test = train_test_split(x,y,test_size = 0.3 , random_state = 42)"
   ]
  },
  {
   "cell_type": "markdown",
   "id": "0849ec11-2bae-42cd-a216-149fec55c90d",
   "metadata": {},
   "source": [
    "**Verileri Tensor Olarak Döndürme**"
   ]
  },
  {
   "cell_type": "code",
   "execution_count": 5,
   "id": "3caeeafd-c620-421a-bce6-be71c7277572",
   "metadata": {},
   "outputs": [],
   "source": [
    "def to_tensor(data , target):\n",
    "    return torch.tensor(data , dtype = torch.float32) , torch.tensor(target , dtype = torch.long )"
   ]
  },
  {
   "cell_type": "code",
   "execution_count": 6,
   "id": "5abec47e-33b4-49ab-911c-a25a1b48436e",
   "metadata": {},
   "outputs": [],
   "source": [
    "x_train , y_train = to_tensor(x_train , y_train)"
   ]
  },
  {
   "cell_type": "code",
   "execution_count": 7,
   "id": "f0c95870-e647-4088-9464-c7b6e944aa89",
   "metadata": {},
   "outputs": [],
   "source": [
    "x_test , y_test = to_tensor(x_test , y_test)"
   ]
  },
  {
   "cell_type": "markdown",
   "id": "82bb2ab0-ae62-45fd-a5a7-0966b786799d",
   "metadata": {},
   "source": [
    "**Modelin Tanımlanması**"
   ]
  },
  {
   "cell_type": "code",
   "execution_count": 17,
   "id": "4b7022bf-cb1e-4482-97d8-bd650c708345",
   "metadata": {},
   "outputs": [],
   "source": [
    "def rbf_kernel(x , centers , beta):\n",
    "    return torch.exp(-beta * torch.cdist(x , centers)**2)\n",
    "\n",
    "class RBFN(nn.Module):\n",
    "    \n",
    "    def __init__(self , input_dim , num_centers , output_dim ):\n",
    "        super(RBFN,self).__init__()\n",
    "        self.centers = nn.Parameter(torch.randn(num_centers,input_dim)) # RBF merkezlerini rastgele başlat\n",
    "        self.beta = nn.Parameter( torch.ones(1) * 2.0 ) # Beta parametresi RBF'in genişliğini kontrol edecek\n",
    "        self.linear = nn.Linear(num_centers , output_dim ) # Output'u tam bağlantılı katmana yönlendir \n",
    "        \n",
    "    \n",
    "    def forward(self , x):\n",
    "        # RBF çekirdek fonk. hesapla\n",
    "        phi = rbf_kernel(x , self.centers , self.beta)\n",
    "        return self.linear(phi)"
   ]
  },
  {
   "cell_type": "markdown",
   "id": "35ff3b01-a426-4f7f-9a4c-778cf3fece3a",
   "metadata": {},
   "source": [
    "**Modelin Eğitimi**"
   ]
  },
  {
   "cell_type": "code",
   "execution_count": 20,
   "id": "8cc4c1d0-3168-45e8-a4ab-7ffab4b485c4",
   "metadata": {},
   "outputs": [
    {
     "name": "stdout",
     "output_type": "stream",
     "text": [
      "Epoch: 10 / 100 - Loss : 1.1097\n",
      "Epoch: 20 / 100 - Loss : 1.0748\n",
      "Epoch: 30 / 100 - Loss : 1.0359\n",
      "Epoch: 40 / 100 - Loss : 0.9775\n",
      "Epoch: 50 / 100 - Loss : 0.8760\n",
      "Epoch: 60 / 100 - Loss : 0.7273\n",
      "Epoch: 70 / 100 - Loss : 0.5768\n",
      "Epoch: 80 / 100 - Loss : 0.4451\n",
      "Epoch: 90 / 100 - Loss : 0.3390\n",
      "Epoch: 100 / 100 - Loss : 0.2631\n"
     ]
    }
   ],
   "source": [
    "num_centers = 10\n",
    "model = RBFN(input_dim = 4 , num_centers = num_centers , output_dim = 3)\n",
    "\n",
    "# Kayıp fonk.tanımlama ve optimizasyon\n",
    "criterion = nn.CrossEntropyLoss()\n",
    "optimizer = optim.Adam(model.parameters() , lr = 0.01)\n",
    "\n",
    "# Model Eğitimi\n",
    "num_epochs = 100\n",
    "for epoch in range(num_epochs):\n",
    "    optimizer.zero_grad() # Gradyanların sıfırlanması\n",
    "    outputs = model(x_train) # Prediction , yani ileri yayılım\n",
    "    loss = criterion(outputs,y_train) # Loss hesapla\n",
    "    loss.backward() # Geri yayılım\n",
    "    optimizer.step() # Ağırlıkların güncellenmesi\n",
    "\n",
    "    if (epoch + 1) % 10 == 0:\n",
    "        print(f\"Epoch: {epoch+1} / {num_epochs} - Loss : {loss.item():.4f}\")"
   ]
  },
  {
   "cell_type": "markdown",
   "id": "fa850188-f442-4951-9204-da3ad076da13",
   "metadata": {},
   "source": [
    "**Modelin Test Edilmesi**"
   ]
  },
  {
   "cell_type": "code",
   "execution_count": null,
   "id": "643050a8-b779-4d38-8de3-da24f80b45ff",
   "metadata": {},
   "outputs": [],
   "source": [
    "with torch.no_grad():\n",
    "    y_pred = model(x_test)\n",
    "    accuracy = "
   ]
  }
 ],
 "metadata": {
  "kernelspec": {
   "display_name": "Python 3 (ipykernel)",
   "language": "python",
   "name": "python3"
  },
  "language_info": {
   "codemirror_mode": {
    "name": "ipython",
    "version": 3
   },
   "file_extension": ".py",
   "mimetype": "text/x-python",
   "name": "python",
   "nbconvert_exporter": "python",
   "pygments_lexer": "ipython3",
   "version": "3.12.7"
  }
 },
 "nbformat": 4,
 "nbformat_minor": 5
}
