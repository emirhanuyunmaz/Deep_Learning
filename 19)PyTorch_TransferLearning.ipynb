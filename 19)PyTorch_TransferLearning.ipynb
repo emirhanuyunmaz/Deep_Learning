{
 "cells": [
  {
   "cell_type": "markdown",
   "id": "b94cd1ba-510c-4e8c-a468-36804aeccc5c",
   "metadata": {},
   "source": [
    "# Öğrenme Aktarımı (Transfer Learning)"
   ]
  },
  {
   "cell_type": "code",
   "execution_count": 1,
   "id": "0cbf657e-4f3c-4e34-945e-bdbf3d2c2e36",
   "metadata": {},
   "outputs": [],
   "source": [
    "import torch \n",
    "import torch.nn as nn\n",
    "import torch.optim as optim\n",
    "import torchvision.transforms as transforms\n",
    "import torchvision.datasets as datasets\n",
    "import torchvision.models as models\n",
    "from torch.utils.data import DataLoader\n",
    "from tqdm import tqdm # Eğitim sürecini takip etmek için kullandığımız ilerleme çubuğu\n",
    "import matplotlib.pyplot as plt\n",
    "import seaborn as sns\n",
    "from sklearn.metrics import confusion_matrix , classification_report"
   ]
  },
  {
   "cell_type": "code",
   "execution_count": 2,
   "id": "2ce650b0-44a7-44b5-9f0a-c1126ff6ff29",
   "metadata": {},
   "outputs": [
    {
     "data": {
      "text/plain": [
       "device(type='cpu')"
      ]
     },
     "execution_count": 2,
     "metadata": {},
     "output_type": "execute_result"
    }
   ],
   "source": [
    "device = torch.device(\"cuda\" if torch.cuda.is_available() else \"cpu\")\n",
    "device"
   ]
  },
  {
   "cell_type": "markdown",
   "id": "6e265d63-432c-47eb-94d6-a6a359747773",
   "metadata": {},
   "source": [
    "### 1)Veri Yükleme (Data Load) ve Veri Arttırımı (Data Agumentation)"
   ]
  },
  {
   "cell_type": "code",
   "execution_count": 6,
   "id": "72a29491-cd31-4f76-9167-06b106f6cf47",
   "metadata": {},
   "outputs": [],
   "source": [
    "transform_train = transforms.Compose([\n",
    "    transforms.Resize((224,224)) , # Mobilnet input size\n",
    "    transforms.RandomHorizontalFlip(), # Görüntüleri yatay çevirerek veri arttırımı\n",
    "    transforms.RandomRotation(10) , # # Görüntüleri 10° derece kadar döndürür\n",
    "    transforms.ColorJitter(brightness = 0.2 , contrast = 0.2 , saturation = 0.2 , hue = 0.1) , # Renk varyasyonları\n",
    "    transforms.ToTensor() , # Görüntüleri tensore çevir\n",
    "    transforms.Normalize((0.5,0.5,0.5),(0.5,0.5,0.5))  # Piksel değerlerini normalize etme işlemi\n",
    " ])"
   ]
  },
  {
   "cell_type": "code",
   "execution_count": 8,
   "id": "010678f2-ab17-4d14-bc53-e94650f80720",
   "metadata": {},
   "outputs": [],
   "source": [
    "transform_test = transforms.Compose([\n",
    "    transforms.Resize((224,224)) , \n",
    "    transforms.ToTensor() ,\n",
    "    transforms.Normalize((0.5,0.5,0.5),(0.5,0.5,0.5))\n",
    "])"
   ]
  },
  {
   "cell_type": "markdown",
   "id": "66c82b5a-938d-4134-9b00-9eb6e09725e5",
   "metadata": {},
   "source": [
    "**Oxford Flowers 102 Veri seti yükleme**"
   ]
  },
  {
   "cell_type": "code",
   "execution_count": 12,
   "id": "275901b0-7c7c-4e84-abf9-6646009e057c",
   "metadata": {},
   "outputs": [],
   "source": [
    "train_dataset = datasets.Flowers102(root = \"./Flowers102_data\" , split = \"val\" , transform = transform_train , download = False)\n",
    "test_dataset = datasets.Flowers102(root = \"./Flowers102_data\" , split = \"val\" , transform = transform_test , download = False)"
   ]
  },
  {
   "cell_type": "code",
   "execution_count": 13,
   "id": "b9a961ad-ee6a-42a7-9e7c-200a1b1ae6c6",
   "metadata": {},
   "outputs": [],
   "source": [
    "train_loader = DataLoader(train_dataset , batch_size = 32 , shuffle = True)\n",
    "test_loader = DataLoader(test_dataset ,batch_size = 32 , shuffle = False)"
   ]
  },
  {
   "cell_type": "markdown",
   "id": "5c441132-0586-4726-a86a-25e1e02cb866",
   "metadata": {},
   "source": [
    "### 2)Transfer Learning"
   ]
  },
  {
   "cell_type": "code",
   "execution_count": 16,
   "id": "aeb968d6-0c67-4cfb-a8f3-6092c98b507a",
   "metadata": {},
   "outputs": [
    {
     "name": "stderr",
     "output_type": "stream",
     "text": [
      "C:\\Users\\emirh\\anaconda3\\Lib\\site-packages\\torchvision\\models\\_utils.py:208: UserWarning: The parameter 'pretrained' is deprecated since 0.13 and may be removed in the future, please use 'weights' instead.\n",
      "  warnings.warn(\n",
      "C:\\Users\\emirh\\anaconda3\\Lib\\site-packages\\torchvision\\models\\_utils.py:223: UserWarning: Arguments other than a weight enum or `None` for 'weights' are deprecated since 0.13 and may be removed in the future. The current behavior is equivalent to passing `weights=MobileNet_V2_Weights.IMAGENET1K_V1`. You can also use `weights=MobileNet_V2_Weights.DEFAULT` to get the most up-to-date weights.\n",
      "  warnings.warn(msg)\n"
     ]
    }
   ],
   "source": [
    "# Mobilnet v2 yükleme\n",
    "model = models.mobilenet_v2(pretrained = True) # Pretrained = True : Önceden eğitilmiş ağırlıklar\n",
    "\n",
    "# Sınıflandırıcı katmanı ekleme\n",
    "num_ftrs = model.classifier[1].in_features # Mevcut sınıflandırıcının giriş özzelliklerini alma işlemi\n",
    "\n",
    "# Son katmanı oxford flower 102 için değiştir\n",
    "model = model.to(device)\n",
    "\n",
    "# Kayıp fonk. ve optimizer tanımlama\n",
    "criterion = nn.CrossEntropyLoss() #Çok sınıflı sınıflandırma için çapraz entropi kullanımı\n",
    "\n",
    "optimizer = optim.Adam(model.classifier[1].parameters() , lr = 0.001) # Sadece son katmanı optimize etme işlemi\n",
    "\n",
    "scheduler = optim.lr_scheduler.StepLR(optimize , step_size = 5 , gamma = 0.1) # Step lr"
   ]
  },
  {
   "cell_type": "markdown",
   "id": "47b25570-8a6a-4299-b8fc-d2939dbe83b8",
   "metadata": {},
   "source": [
    "**Model Eğitimi**"
   ]
  },
  {
   "cell_type": "code",
   "execution_count": 17,
   "id": "0dcc117d-2c88-4120-8e97-927b87f4c8c0",
   "metadata": {},
   "outputs": [
    {
     "name": "stderr",
     "output_type": "stream",
     "text": [
      "  0%|                                                                                            | 0/5 [00:00<?, ?it/s]C:\\Users\\emirh\\anaconda3\\Lib\\site-packages\\torch\\optim\\lr_scheduler.py:182: UserWarning: Detected call of `lr_scheduler.step()` before `optimizer.step()`. In PyTorch 1.1.0 and later, you should call them in the opposite order: `optimizer.step()` before `lr_scheduler.step()`.  Failure to do this will result in PyTorch skipping the first value of the learning rate schedule. See more details at https://pytorch.org/docs/stable/optim.html#how-to-adjust-learning-rate\n",
      "  warnings.warn(\n",
      " 20%|████████████████▌                                                                  | 1/5 [01:52<07:29, 112.32s/it]"
     ]
    },
    {
     "name": "stdout",
     "output_type": "stream",
     "text": [
      "Epoch : 1 - Loss 7.9577\n"
     ]
    },
    {
     "name": "stderr",
     "output_type": "stream",
     "text": [
      " 40%|█████████████████████████████████▌                                                  | 2/5 [03:01<04:20, 86.86s/it]"
     ]
    },
    {
     "name": "stdout",
     "output_type": "stream",
     "text": [
      "Epoch : 2 - Loss 5.6387\n"
     ]
    },
    {
     "name": "stderr",
     "output_type": "stream",
     "text": [
      " 60%|██████████████████████████████████████████████████▍                                 | 3/5 [04:20<02:46, 83.42s/it]"
     ]
    },
    {
     "name": "stdout",
     "output_type": "stream",
     "text": [
      "Epoch : 3 - Loss 4.2709\n"
     ]
    },
    {
     "name": "stderr",
     "output_type": "stream",
     "text": [
      " 80%|███████████████████████████████████████████████████████████████████▏                | 4/5 [05:27<01:16, 76.82s/it]"
     ]
    },
    {
     "name": "stdout",
     "output_type": "stream",
     "text": [
      "Epoch : 4 - Loss 3.1007\n"
     ]
    },
    {
     "name": "stderr",
     "output_type": "stream",
     "text": [
      "100%|████████████████████████████████████████████████████████████████████████████████████| 5/5 [06:33<00:00, 78.67s/it]"
     ]
    },
    {
     "name": "stdout",
     "output_type": "stream",
     "text": [
      "Epoch : 5 - Loss 2.4897\n"
     ]
    },
    {
     "name": "stderr",
     "output_type": "stream",
     "text": [
      "\n"
     ]
    }
   ],
   "source": [
    "epochs = 5\n",
    "for epoch in tqdm(range(epochs)):\n",
    "    model.train() # Modeli eğitim moduna alma işlemi\n",
    "    running_loss = 0.0 # Toplam kayıp değeri\n",
    "    \n",
    "    for images , labels in train_loader:\n",
    "        images , labels = images.to(device) , labels.to(device)\n",
    "        optimizer.zero_grad() # Önceki gradyanları sıfırla\n",
    "        outputs = model(images) # Model ile tahmin işlemi\n",
    "        loss = criterion(outputs , labels)\n",
    "        loss.backward()\n",
    "        optimizer.step()\n",
    "        running_loss += loss.item()\n",
    "    scheduler.step()\n",
    "    print(f\"Epoch : {epoch+1} - Loss {running_loss/len(train_loader):.4f}\")"
   ]
  },
  {
   "cell_type": "markdown",
   "id": "6c07aaac-2a40-4d38-ba43-33b85b457159",
   "metadata": {},
   "source": [
    "**Modeli Kaydetme**"
   ]
  },
  {
   "cell_type": "code",
   "execution_count": 18,
   "id": "af016c18-4f8c-45c8-98f2-27ab308777c7",
   "metadata": {},
   "outputs": [],
   "source": [
    "torch.save(model.state_dict(),\"mobilenet_flowers102.pth\")"
   ]
  },
  {
   "cell_type": "code",
   "execution_count": 19,
   "id": "46bd91a9-08fb-49e6-aa25-af4b89c76ded",
   "metadata": {},
   "outputs": [
    {
     "name": "stderr",
     "output_type": "stream",
     "text": [
      "100%|██████████████████████████████████████████████████████████████████████████████████| 32/32 [00:26<00:00,  1.22it/s]\n"
     ]
    },
    {
     "data": {
      "text/plain": [
       "array([[2, 0, 0, ..., 0, 0, 0],\n",
       "       [0, 7, 0, ..., 0, 0, 0],\n",
       "       [0, 0, 3, ..., 0, 0, 0],\n",
       "       ...,\n",
       "       [0, 0, 0, ..., 7, 0, 0],\n",
       "       [0, 0, 0, ..., 0, 5, 0],\n",
       "       [0, 0, 0, ..., 0, 0, 4]], dtype=int64)"
      ]
     },
     "execution_count": 19,
     "metadata": {},
     "output_type": "execute_result"
    }
   ],
   "source": [
    "model.eval()\n",
    "all_preds = []\n",
    "all_labels = []\n",
    "\n",
    "with torch.no_grad():\n",
    "    for images , labels in tqdm(test_loader):\n",
    "        images , labels = images.to(device) , labels.to(device)\n",
    "        outputs = model(images)\n",
    "        _ , predicted = torch.max(outputs,1)\n",
    "        all_preds.extend(predicted.cpu().numpy())\n",
    "        all_labels.extend(labels.cpu().numpy())\n",
    "\n",
    "cm = confusion_matrix(all_labels , all_preds)\n",
    "cm"
   ]
  },
  {
   "cell_type": "code",
   "execution_count": 21,
   "id": "c000b447-83da-4491-8add-625f2a34c34b",
   "metadata": {},
   "outputs": [
    {
     "name": "stdout",
     "output_type": "stream",
     "text": [
      "              precision    recall  f1-score   support\n",
      "\n",
      "           0       0.17      0.20      0.18        10\n",
      "           1       0.58      0.70      0.64        10\n",
      "           2       0.50      0.30      0.38        10\n",
      "           3       0.25      0.20      0.22        10\n",
      "           4       0.14      0.20      0.17        10\n",
      "           5       0.82      0.90      0.86        10\n",
      "           6       0.29      0.20      0.24        10\n",
      "           7       0.64      0.70      0.67        10\n",
      "           8       1.00      0.40      0.57        10\n",
      "           9       0.69      0.90      0.78        10\n",
      "          10       0.33      0.20      0.25        10\n",
      "          11       0.82      0.90      0.86        10\n",
      "          12       0.89      0.80      0.84        10\n",
      "          13       1.00      0.90      0.95        10\n",
      "          14       0.44      0.40      0.42        10\n",
      "          15       0.50      0.40      0.44        10\n",
      "          16       0.53      1.00      0.69        10\n",
      "          17       0.60      0.30      0.40        10\n",
      "          18       0.71      1.00      0.83        10\n",
      "          19       0.67      0.60      0.63        10\n",
      "          20       1.00      0.60      0.75        10\n",
      "          21       0.50      0.40      0.44        10\n",
      "          22       0.57      0.40      0.47        10\n",
      "          23       0.33      0.70      0.45        10\n",
      "          24       0.78      0.70      0.74        10\n",
      "          25       1.00      0.20      0.33        10\n",
      "          26       1.00      0.80      0.89        10\n",
      "          27       0.53      0.80      0.64        10\n",
      "          28       0.88      0.70      0.78        10\n",
      "          29       0.33      0.10      0.15        10\n",
      "          30       0.00      0.00      0.00        10\n",
      "          31       0.33      0.40      0.36        10\n",
      "          32       0.67      0.60      0.63        10\n",
      "          33       0.90      0.90      0.90        10\n",
      "          34       0.80      0.80      0.80        10\n",
      "          35       0.00      0.00      0.00        10\n",
      "          36       0.33      0.40      0.36        10\n",
      "          37       0.40      0.20      0.27        10\n",
      "          38       0.31      0.80      0.44        10\n",
      "          39       0.70      0.70      0.70        10\n",
      "          40       0.53      0.80      0.64        10\n",
      "          41       0.80      0.40      0.53        10\n",
      "          42       1.00      0.10      0.18        10\n",
      "          43       0.56      0.50      0.53        10\n",
      "          44       0.62      0.80      0.70        10\n",
      "          45       0.80      0.80      0.80        10\n",
      "          46       1.00      0.70      0.82        10\n",
      "          47       0.69      0.90      0.78        10\n",
      "          48       0.67      0.80      0.73        10\n",
      "          49       0.75      0.60      0.67        10\n",
      "          50       0.56      0.50      0.53        10\n",
      "          51       0.36      0.40      0.38        10\n",
      "          52       0.38      0.80      0.52        10\n",
      "          53       0.71      0.50      0.59        10\n",
      "          54       0.27      0.60      0.38        10\n",
      "          55       0.82      0.90      0.86        10\n",
      "          56       0.67      0.40      0.50        10\n",
      "          57       0.82      0.90      0.86        10\n",
      "          58       0.43      1.00      0.61        10\n",
      "          59       0.82      0.90      0.86        10\n",
      "          60       0.62      1.00      0.77        10\n",
      "          61       0.50      0.70      0.58        10\n",
      "          62       0.78      0.70      0.74        10\n",
      "          63       1.00      0.90      0.95        10\n",
      "          64       0.82      0.90      0.86        10\n",
      "          65       0.47      0.90      0.62        10\n",
      "          66       0.71      1.00      0.83        10\n",
      "          67       0.43      0.60      0.50        10\n",
      "          68       0.67      0.80      0.73        10\n",
      "          69       0.88      0.70      0.78        10\n",
      "          70       0.88      0.70      0.78        10\n",
      "          71       0.40      0.20      0.27        10\n",
      "          72       1.00      0.20      0.33        10\n",
      "          73       0.00      0.00      0.00        10\n",
      "          74       0.71      0.50      0.59        10\n",
      "          75       1.00      0.20      0.33        10\n",
      "          76       0.88      0.70      0.78        10\n",
      "          77       0.57      0.40      0.47        10\n",
      "          78       0.41      0.90      0.56        10\n",
      "          79       0.31      0.40      0.35        10\n",
      "          80       0.50      1.00      0.67        10\n",
      "          81       0.67      0.40      0.50        10\n",
      "          82       0.45      0.50      0.48        10\n",
      "          83       0.00      0.00      0.00        10\n",
      "          84       0.38      0.60      0.46        10\n",
      "          85       0.62      0.80      0.70        10\n",
      "          86       0.57      0.80      0.67        10\n",
      "          87       0.43      0.30      0.35        10\n",
      "          88       0.60      0.30      0.40        10\n",
      "          89       0.00      0.00      0.00        10\n",
      "          90       0.24      0.70      0.36        10\n",
      "          91       0.71      0.50      0.59        10\n",
      "          92       0.44      0.70      0.54        10\n",
      "          93       0.60      0.30      0.40        10\n",
      "          94       1.00      0.30      0.46        10\n",
      "          95       0.50      0.30      0.38        10\n",
      "          96       0.25      0.30      0.27        10\n",
      "          97       0.75      0.30      0.43        10\n",
      "          98       0.80      0.80      0.80        10\n",
      "          99       0.54      0.70      0.61        10\n",
      "         100       0.50      0.50      0.50        10\n",
      "         101       0.80      0.40      0.53        10\n",
      "\n",
      "    accuracy                           0.56      1020\n",
      "   macro avg       0.59      0.56      0.54      1020\n",
      "weighted avg       0.59      0.56      0.54      1020\n",
      "\n"
     ]
    },
    {
     "name": "stderr",
     "output_type": "stream",
     "text": [
      "C:\\Users\\emirh\\anaconda3\\Lib\\site-packages\\sklearn\\metrics\\_classification.py:1531: UndefinedMetricWarning: Precision is ill-defined and being set to 0.0 in labels with no predicted samples. Use `zero_division` parameter to control this behavior.\n",
      "  _warn_prf(average, modifier, f\"{metric.capitalize()} is\", len(result))\n",
      "C:\\Users\\emirh\\anaconda3\\Lib\\site-packages\\sklearn\\metrics\\_classification.py:1531: UndefinedMetricWarning: Precision is ill-defined and being set to 0.0 in labels with no predicted samples. Use `zero_division` parameter to control this behavior.\n",
      "  _warn_prf(average, modifier, f\"{metric.capitalize()} is\", len(result))\n",
      "C:\\Users\\emirh\\anaconda3\\Lib\\site-packages\\sklearn\\metrics\\_classification.py:1531: UndefinedMetricWarning: Precision is ill-defined and being set to 0.0 in labels with no predicted samples. Use `zero_division` parameter to control this behavior.\n",
      "  _warn_prf(average, modifier, f\"{metric.capitalize()} is\", len(result))\n"
     ]
    }
   ],
   "source": [
    "print(classification_report(all_labels,all_preds))"
   ]
  },
  {
   "cell_type": "code",
   "execution_count": null,
   "id": "5dab9796-7ea5-4353-b3d4-d5255091ca5b",
   "metadata": {},
   "outputs": [],
   "source": []
  }
 ],
 "metadata": {
  "kernelspec": {
   "display_name": "Python 3 (ipykernel)",
   "language": "python",
   "name": "python3"
  },
  "language_info": {
   "codemirror_mode": {
    "name": "ipython",
    "version": 3
   },
   "file_extension": ".py",
   "mimetype": "text/x-python",
   "name": "python",
   "nbconvert_exporter": "python",
   "pygments_lexer": "ipython3",
   "version": "3.12.7"
  }
 },
 "nbformat": 4,
 "nbformat_minor": 5
}
